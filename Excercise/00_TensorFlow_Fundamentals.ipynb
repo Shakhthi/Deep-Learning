{
  "nbformat": 4,
  "nbformat_minor": 0,
  "metadata": {
    "colab": {
      "provenance": [],
      "toc_visible": true,
      "authorship_tag": "ABX9TyMTPgz4+d+BFY10MdwTQoc+",
      "include_colab_link": true
    },
    "kernelspec": {
      "name": "python3",
      "display_name": "Python 3"
    },
    "language_info": {
      "name": "python"
    },
    "accelerator": "GPU",
    "gpuClass": "standard"
  },
  "cells": [
    {
      "cell_type": "markdown",
      "metadata": {
        "id": "view-in-github",
        "colab_type": "text"
      },
      "source": [
        "<a href=\"https://colab.research.google.com/github/Shakhthi/Deep-Learning/blob/Excercise/Excercise/00_TensorFlow_Fundamentals.ipynb\" target=\"_parent\"><img src=\"https://colab.research.google.com/assets/colab-badge.svg\" alt=\"Open In Colab\"/></a>"
      ]
    },
    {
      "cell_type": "markdown",
      "source": [
        "# **Intro to Tensors**"
      ],
      "metadata": {
        "id": "Sknk71x_e3uk"
      }
    },
    {
      "cell_type": "code",
      "source": [
        "# Import TensorFlow \n",
        "import tensorflow as tf "
      ],
      "metadata": {
        "id": "jtni-o0UgW4I"
      },
      "execution_count": 1,
      "outputs": []
    },
    {
      "cell_type": "code",
      "source": [
        "# Version Checkup\n",
        "tf.__version__"
      ],
      "metadata": {
        "colab": {
          "base_uri": "https://localhost:8080/",
          "height": 35
        },
        "id": "Sd9ZyfKSg_sX",
        "outputId": "1de672cf-99ea-4c07-8353-d351535a62f7"
      },
      "execution_count": 2,
      "outputs": [
        {
          "output_type": "execute_result",
          "data": {
            "text/plain": [
              "'2.9.2'"
            ],
            "application/vnd.google.colaboratory.intrinsic+json": {
              "type": "string"
            }
          },
          "metadata": {},
          "execution_count": 2
        }
      ]
    },
    {
      "cell_type": "markdown",
      "source": [
        "### **tf.constant()**"
      ],
      "metadata": {
        "id": "GTVnjKuPuC0v"
      }
    },
    {
      "cell_type": "markdown",
      "source": [
        "Creates a constant tensor.\n",
        "\n",
        "The resulting tensor is populated with values of type dtype, as specified by arguments value and (optionally) shape (see examples below).\n",
        "\n",
        "The argument value can be a constant value, or a list of values of type dtype. If value is a list, then the length of the list must be less than or equal to the number of elements implied by the shape argument (if specified). In the case where the list length is less than the number of elements specified by shape, the last element in the list will be used to fill the remaining entries.\n",
        "\n",
        "The argument shape is optional. If present, it specifies the dimensions of the resulting tensor. If not present, the shape of value is used.\n",
        "\n",
        "If the argument dtype is not specified, then the type is inferred from the type of value."
      ],
      "metadata": {
        "id": "aZFtOgPvtofw"
      }
    },
    {
      "cell_type": "markdown",
      "source": [
        "**Args**:\n",
        "\n",
        "value: A constant value (or list) of output type dtype.\n",
        "\n",
        "dtype: The type of the elements of the resulting tensor.\n",
        "\n",
        "shape: Optional dimensions of resulting tensor.\n",
        "\n",
        "name: Optional name for the tensor.\n",
        "\n",
        "verify_shape: Boolean that enables verification of a shape of values.\n",
        "\n",
        "**Returns:**\n",
        "A Constant Tensor.\n",
        "\n",
        "**Raises:**\n",
        "TypeError: if shape is incorrectly specified or unsupported."
      ],
      "metadata": {
        "id": "3W-ar0jLuSsm"
      }
    },
    {
      "cell_type": "code",
      "source": [
        "# Create a Tensor with tf.constent()\n",
        "scalar = tf.constant(4)\n",
        "print(scalar)"
      ],
      "metadata": {
        "colab": {
          "base_uri": "https://localhost:8080/"
        },
        "id": "0ZKa9JIXhSXr",
        "outputId": "19244df8-f14e-419d-d4d8-5ed033e2764e"
      },
      "execution_count": 3,
      "outputs": [
        {
          "output_type": "stream",
          "name": "stdout",
          "text": [
            "tf.Tensor(4, shape=(), dtype=int32)\n"
          ]
        }
      ]
    },
    {
      "cell_type": "code",
      "source": [
        "# Check the number of dimensions\n",
        "scalar.ndim"
      ],
      "metadata": {
        "colab": {
          "base_uri": "https://localhost:8080/"
        },
        "id": "STUYh-pRhngC",
        "outputId": "3619f9ae-06f7-4b4a-c56e-033137d6d256"
      },
      "execution_count": 4,
      "outputs": [
        {
          "output_type": "execute_result",
          "data": {
            "text/plain": [
              "0"
            ]
          },
          "metadata": {},
          "execution_count": 4
        }
      ]
    },
    {
      "cell_type": "code",
      "source": [
        " # Create a vector with tf.constant()\n",
        "vector = tf.constant([10,10])\n",
        "print(vector) "
      ],
      "metadata": {
        "colab": {
          "base_uri": "https://localhost:8080/"
        },
        "id": "4NYK5YV5hyJf",
        "outputId": "9a9a4d9f-ebd4-490a-a4d4-d5ef4ef9225a"
      },
      "execution_count": 5,
      "outputs": [
        {
          "output_type": "stream",
          "name": "stdout",
          "text": [
            "tf.Tensor([10 10], shape=(2,), dtype=int32)\n"
          ]
        }
      ]
    },
    {
      "cell_type": "code",
      "source": [
        "vector.ndim "
      ],
      "metadata": {
        "colab": {
          "base_uri": "https://localhost:8080/"
        },
        "id": "8GwQWpsdi97b",
        "outputId": "7b7017cd-99db-4828-923c-1f6c9d3f05e5"
      },
      "execution_count": 6,
      "outputs": [
        {
          "output_type": "execute_result",
          "data": {
            "text/plain": [
              "1"
            ]
          },
          "metadata": {},
          "execution_count": 6
        }
      ]
    },
    {
      "cell_type": "code",
      "source": [
        "# Create a matrix\n",
        "matrix = tf.constant([[10,7],\n",
        "                      [7,10]])\n",
        "print(matrix)"
      ],
      "metadata": {
        "colab": {
          "base_uri": "https://localhost:8080/"
        },
        "id": "SEVmu3BxiWc0",
        "outputId": "04bf1867-28d8-4fea-d9e8-90badce05354"
      },
      "execution_count": 7,
      "outputs": [
        {
          "output_type": "stream",
          "name": "stdout",
          "text": [
            "tf.Tensor(\n",
            "[[10  7]\n",
            " [ 7 10]], shape=(2, 2), dtype=int32)\n"
          ]
        }
      ]
    },
    {
      "cell_type": "code",
      "source": [
        "float_matrix = tf.constant([[10., 7.],\n",
        "                           [3.,2.],\n",
        "                           [8.,9.]], dtype=tf.float16)  # Specify the data type with dtype\n",
        "print(float_matrix)                           "
      ],
      "metadata": {
        "colab": {
          "base_uri": "https://localhost:8080/"
        },
        "id": "FUZ3pQyVi07u",
        "outputId": "09f0c4e2-11c0-48cf-b1d8-b8c830d2819a"
      },
      "execution_count": 8,
      "outputs": [
        {
          "output_type": "stream",
          "name": "stdout",
          "text": [
            "tf.Tensor(\n",
            "[[10.  7.]\n",
            " [ 3.  2.]\n",
            " [ 8.  9.]], shape=(3, 2), dtype=float16)\n"
          ]
        }
      ]
    },
    {
      "cell_type": "code",
      "source": [
        "float_matrix.ndim"
      ],
      "metadata": {
        "colab": {
          "base_uri": "https://localhost:8080/"
        },
        "id": "0_n6O9hIj0Fm",
        "outputId": "8b0a7715-d77f-4acd-be7e-0fbb3ff30d3f"
      },
      "execution_count": 9,
      "outputs": [
        {
          "output_type": "execute_result",
          "data": {
            "text/plain": [
              "2"
            ]
          },
          "metadata": {},
          "execution_count": 9
        }
      ]
    },
    {
      "cell_type": "code",
      "source": [
        " #  Let's create a Tensor\n",
        "tensor = tf.constant([[[1,2,3],\n",
        "                       [4,5,6]],\n",
        "                      [[7,8,9],\n",
        "                       [10,11,12]],\n",
        "                      [[13,14,15],\n",
        "                       [16,17,18]]])\n",
        "print(tensor)"
      ],
      "metadata": {
        "colab": {
          "base_uri": "https://localhost:8080/"
        },
        "id": "YRJNKFG1j_aP",
        "outputId": "a6f52ad0-9b88-4d60-dda9-92cc87727f32"
      },
      "execution_count": 10,
      "outputs": [
        {
          "output_type": "stream",
          "name": "stdout",
          "text": [
            "tf.Tensor(\n",
            "[[[ 1  2  3]\n",
            "  [ 4  5  6]]\n",
            "\n",
            " [[ 7  8  9]\n",
            "  [10 11 12]]\n",
            "\n",
            " [[13 14 15]\n",
            "  [16 17 18]]], shape=(3, 2, 3), dtype=int32)\n"
          ]
        }
      ]
    },
    {
      "cell_type": "code",
      "source": [
        "tensor.ndim"
      ],
      "metadata": {
        "colab": {
          "base_uri": "https://localhost:8080/"
        },
        "id": "tc2SulHklauU",
        "outputId": "4195a43f-fe9c-4930-cbef-60e1b8c2f823"
      },
      "execution_count": 11,
      "outputs": [
        {
          "output_type": "execute_result",
          "data": {
            "text/plain": [
              "3"
            ]
          },
          "metadata": {},
          "execution_count": 11
        }
      ]
    },
    {
      "cell_type": "markdown",
      "source": [
        "  ### **tf.Variable()**"
      ],
      "metadata": {
        "id": "rvl0rDYz0tk5"
      }
    },
    {
      "cell_type": "markdown",
      "source": [
        "tf.Variable(  \n",
        "    initial_value=None,\n",
        "    trainable=None,\n",
        "    validate_shape=True,\n",
        "    caching_device=None,\n",
        "    name=None,\n",
        "    variable_def=None,\n",
        "    dtype=None,\n",
        "    import_scope=None,\n",
        "    constraint=None,\n",
        "    synchronization=tf.VariableSynchronization.AUTO,\n",
        "    aggregation=tf.compat.v1.VariableAggregation.NONE,\n",
        "    shape=None,\n",
        "    experimental_enable_variable_lifting=True\n",
        "  )"
      ],
      "metadata": {
        "id": "VtKQzw522Ty7"
      }
    },
    {
      "cell_type": "markdown",
      "source": [
        "### **Creating Tensors with tf.Variable**"
      ],
      "metadata": {
        "id": "uABmJkR0zAE8"
      }
    },
    {
      "cell_type": "code",
      "source": [
        " # Create the same tensor with tf.variable\n",
        "unchangable_tensor = tf.constant([10,7,4,5], shape=(2,2))\n",
        "changable_tensor = tf.Variable([10,7,12,4])\n",
        "unchangable_tensor, changable_tensor"
      ],
      "metadata": {
        "colab": {
          "base_uri": "https://localhost:8080/"
        },
        "id": "sKSWc4SwmJSw",
        "outputId": "c5f6410d-9e92-461f-9ebe-3c636616fd2c"
      },
      "execution_count": 12,
      "outputs": [
        {
          "output_type": "execute_result",
          "data": {
            "text/plain": [
              "(<tf.Tensor: shape=(2, 2), dtype=int32, numpy=\n",
              " array([[10,  7],\n",
              "        [ 4,  5]], dtype=int32)>,\n",
              " <tf.Variable 'Variable:0' shape=(4,) dtype=int32, numpy=array([10,  7, 12,  4], dtype=int32)>)"
            ]
          },
          "metadata": {},
          "execution_count": 12
        }
      ]
    },
    {
      "cell_type": "markdown",
      "source": [
        "### **Assinging values to the tensor**"
      ],
      "metadata": {
        "id": "F-oJZsZd8MPk"
      }
    },
    {
      "cell_type": "code",
      "source": [
        "# Changing Values\n",
        "changable_tensor[0].assign(7)"
      ],
      "metadata": {
        "id": "3BUE5U9sxnDN",
        "colab": {
          "base_uri": "https://localhost:8080/"
        },
        "outputId": "ec9bd827-d066-4ea5-9013-eaf3298a63c0"
      },
      "execution_count": 13,
      "outputs": [
        {
          "output_type": "execute_result",
          "data": {
            "text/plain": [
              "<tf.Variable 'UnreadVariable' shape=(4,) dtype=int32, numpy=array([ 7,  7, 12,  4], dtype=int32)>"
            ]
          },
          "metadata": {},
          "execution_count": 13
        }
      ]
    },
    {
      "cell_type": "markdown",
      "source": [
        "### **Creating random tensors**"
      ],
      "metadata": {
        "id": "FN4CQu0x38wV"
      }
    },
    {
      "cell_type": "markdown",
      "source": [
        "**tf.random.normal**\n",
        "\n",
        " (\n",
        "    shape,\n",
        "    mean=0.0,\n",
        "    stddev=1.0,\n",
        "    dtype=tf.dtypes.float32,\n",
        "    seed=None,\n",
        "    name=None\n",
        " )"
      ],
      "metadata": {
        "id": "4lNQK42v-i27"
      }
    },
    {
      "cell_type": "markdown",
      "source": [
        "**Normal distribution**\n",
        "\n",
        "Normal distribution, also known as the Gaussian distribution, is a probability distribution that is symmetric about the mean, showing that data near the mean are more frequent in occurrence than data far from the mean.\n",
        "\n",
        "In graphical form, the normal distribution appears as a \"bell curve\"."
      ],
      "metadata": {
        "id": "rckLIqISBgK1"
      }
    },
    {
      "cell_type": "code",
      "source": [
        "random1 = tf.random.Generator.from_seed(42)\n",
        "random1 = random1.normal(shape=(3,2))\n",
        "\n",
        "random2 = tf.random.Generator.from_seed(42)\n",
        "random2 = random2.normal(shape=(3,2))\n",
        "\n",
        "random1, random2, random1 == random2"
      ],
      "metadata": {
        "colab": {
          "base_uri": "https://localhost:8080/"
        },
        "id": "50geddLI4SYf",
        "outputId": "0b501cf6-f9b1-4669-e61f-11d9a550af63"
      },
      "execution_count": 14,
      "outputs": [
        {
          "output_type": "execute_result",
          "data": {
            "text/plain": [
              "(<tf.Tensor: shape=(3, 2), dtype=float32, numpy=\n",
              " array([[-0.7565803 , -0.06854702],\n",
              "        [ 0.07595026, -1.2573844 ],\n",
              "        [-0.23193765, -1.8107855 ]], dtype=float32)>,\n",
              " <tf.Tensor: shape=(3, 2), dtype=float32, numpy=\n",
              " array([[-0.7565803 , -0.06854702],\n",
              "        [ 0.07595026, -1.2573844 ],\n",
              "        [-0.23193765, -1.8107855 ]], dtype=float32)>,\n",
              " <tf.Tensor: shape=(3, 2), dtype=bool, numpy=\n",
              " array([[ True,  True],\n",
              "        [ True,  True],\n",
              "        [ True,  True]])>)"
            ]
          },
          "metadata": {},
          "execution_count": 14
        }
      ]
    },
    {
      "cell_type": "markdown",
      "source": [
        "**tf.random.uniform**\n",
        "\n",
        "(\n",
        "    shape,\n",
        "    minval=0,\n",
        "    maxval=None,\n",
        "    dtype=tf.dtypes.float32,\n",
        "    seed=None,\n",
        "    name=None\n",
        ")"
      ],
      "metadata": {
        "id": "AmI3z04aCPBG"
      }
    },
    {
      "cell_type": "markdown",
      "source": [
        "**Uniform Distribution**\n",
        "\n",
        "A uniform distribution, also called a rectangular distribution, is a probability distribution that has constant probability.\n"
      ],
      "metadata": {
        "id": "-TwnhyQq_1sh"
      }
    },
    {
      "cell_type": "code",
      "source": [
        "random3 = tf.random.Generator.from_seed(42)\n",
        "random3 = random3.uniform(shape=(3,2))\n",
        "\n",
        "random4 = tf.random.Generator.from_seed(42)\n",
        "random4 = random4.uniform(shape=(3,2))\n",
        "\n",
        "random3, random4, random3 == random4"
      ],
      "metadata": {
        "colab": {
          "base_uri": "https://localhost:8080/"
        },
        "id": "vxQd-0y9CZ4V",
        "outputId": "f20d18b1-bb83-4a2b-e8fa-761aac021444"
      },
      "execution_count": 15,
      "outputs": [
        {
          "output_type": "execute_result",
          "data": {
            "text/plain": [
              "(<tf.Tensor: shape=(3, 2), dtype=float32, numpy=\n",
              " array([[0.7493447 , 0.73561966],\n",
              "        [0.45230794, 0.49039817],\n",
              "        [0.1889317 , 0.52027524]], dtype=float32)>,\n",
              " <tf.Tensor: shape=(3, 2), dtype=float32, numpy=\n",
              " array([[0.7493447 , 0.73561966],\n",
              "        [0.45230794, 0.49039817],\n",
              "        [0.1889317 , 0.52027524]], dtype=float32)>,\n",
              " <tf.Tensor: shape=(3, 2), dtype=bool, numpy=\n",
              " array([[ True,  True],\n",
              "        [ True,  True],\n",
              "        [ True,  True]])>)"
            ]
          },
          "metadata": {},
          "execution_count": 15
        }
      ]
    },
    {
      "cell_type": "markdown",
      "source": [
        "### Shuffling the tensors"
      ],
      "metadata": {
        "id": "cscqG1VrWYyV"
      }
    },
    {
      "cell_type": "code",
      "source": [
        "shuffle  = tf.constant([[1,2],\n",
        "                       [9,8],\n",
        "                       [5,0],\n",
        "                       [4,3]]) \n"
      ],
      "metadata": {
        "id": "vJZED4UAWehC"
      },
      "execution_count": 16,
      "outputs": []
    },
    {
      "cell_type": "code",
      "source": [
        "tf.random.set_seed(7)   # Global level seed\n",
        "tf.random.shuffle(shuffle)   # Operation level seed"
      ],
      "metadata": {
        "colab": {
          "base_uri": "https://localhost:8080/"
        },
        "id": "8AcnkC1NWumU",
        "outputId": "7767e14b-2563-4d61-8d70-f591a8d108a4"
      },
      "execution_count": 17,
      "outputs": [
        {
          "output_type": "execute_result",
          "data": {
            "text/plain": [
              "<tf.Tensor: shape=(4, 2), dtype=int32, numpy=\n",
              "array([[5, 0],\n",
              "       [1, 2],\n",
              "       [4, 3],\n",
              "       [9, 8]], dtype=int32)>"
            ]
          },
          "metadata": {},
          "execution_count": 17
        }
      ]
    },
    {
      "cell_type": "markdown",
      "source": [
        "### Other ways to create tensors"
      ],
      "metadata": {
        "id": "JELhN6LaYlua"
      }
    },
    {
      "cell_type": "code",
      "source": [
        "tf.ones(10, tf.int32 )"
      ],
      "metadata": {
        "colab": {
          "base_uri": "https://localhost:8080/"
        },
        "id": "OTEMiuqZYhYU",
        "outputId": "b8af03da-9f97-4e30-85e4-67eeed2624b5"
      },
      "execution_count": 18,
      "outputs": [
        {
          "output_type": "execute_result",
          "data": {
            "text/plain": [
              "<tf.Tensor: shape=(10,), dtype=int32, numpy=array([1, 1, 1, 1, 1, 1, 1, 1, 1, 1], dtype=int32)>"
            ]
          },
          "metadata": {},
          "execution_count": 18
        }
      ]
    },
    {
      "cell_type": "code",
      "source": [
        "tf.zeros(5)"
      ],
      "metadata": {
        "colab": {
          "base_uri": "https://localhost:8080/"
        },
        "id": "753W_jCDYk8r",
        "outputId": "1b7c8fdc-cd4a-472d-d83d-be4e9f647fe8"
      },
      "execution_count": 19,
      "outputs": [
        {
          "output_type": "execute_result",
          "data": {
            "text/plain": [
              "<tf.Tensor: shape=(5,), dtype=float32, numpy=array([0., 0., 0., 0., 0.], dtype=float32)>"
            ]
          },
          "metadata": {},
          "execution_count": 19
        }
      ]
    },
    {
      "cell_type": "markdown",
      "source": [
        "**Creating tensors using numpy array's**"
      ],
      "metadata": {
        "id": "J9--48-0cAk6"
      }
    },
    {
      "cell_type": "code",
      "source": [
        "import numpy as np "
      ],
      "metadata": {
        "id": "hnEuly85b1oH"
      },
      "execution_count": 20,
      "outputs": []
    },
    {
      "cell_type": "code",
      "source": [
        "a = np.arange(1,25, dtype=np.int32)\n",
        "print(a)"
      ],
      "metadata": {
        "colab": {
          "base_uri": "https://localhost:8080/"
        },
        "id": "iPZlElzPcSGF",
        "outputId": "a5ddb08f-a9e6-47fa-da17-3ac726ea90a4"
      },
      "execution_count": 21,
      "outputs": [
        {
          "output_type": "stream",
          "name": "stdout",
          "text": [
            "[ 1  2  3  4  5  6  7  8  9 10 11 12 13 14 15 16 17 18 19 20 21 22 23 24]\n"
          ]
        }
      ]
    },
    {
      "cell_type": "code",
      "source": [
        "A = tf.constant(a, shape=(3,2,4), dtype=tf.int64)\n",
        "print(A)"
      ],
      "metadata": {
        "colab": {
          "base_uri": "https://localhost:8080/"
        },
        "id": "20qIhkLGcZkZ",
        "outputId": "0519012b-9400-429e-fa2a-cd945650ced9"
      },
      "execution_count": 22,
      "outputs": [
        {
          "output_type": "stream",
          "name": "stdout",
          "text": [
            "tf.Tensor(\n",
            "[[[ 1  2  3  4]\n",
            "  [ 5  6  7  8]]\n",
            "\n",
            " [[ 9 10 11 12]\n",
            "  [13 14 15 16]]\n",
            "\n",
            " [[17 18 19 20]\n",
            "  [21 22 23 24]]], shape=(3, 2, 4), dtype=int64)\n"
          ]
        }
      ]
    },
    {
      "cell_type": "code",
      "source": [
        "tf.Variable([1,2,3,4,5,6], dtype=tf.float32)\n",
        "# In tf.Variable, can't alter the shape "
      ],
      "metadata": {
        "colab": {
          "base_uri": "https://localhost:8080/"
        },
        "id": "jI4b8-VJctBt",
        "outputId": "b0a3e90c-d46d-4e5b-bfc3-4610c73e5314"
      },
      "execution_count": 23,
      "outputs": [
        {
          "output_type": "execute_result",
          "data": {
            "text/plain": [
              "<tf.Variable 'Variable:0' shape=(6,) dtype=float32, numpy=array([1., 2., 3., 4., 5., 6.], dtype=float32)>"
            ]
          },
          "metadata": {},
          "execution_count": 23
        }
      ]
    },
    {
      "cell_type": "markdown",
      "source": [
        "# Getting information from tensors\n",
        "# (dtype, shape, Rank, size)"
      ],
      "metadata": {
        "id": "a7BBZcaxmBFV"
      }
    },
    {
      "cell_type": "code",
      "source": [
        "tensor  = tf.zeros(shape=[2,3,4,5])\n",
        "print(tensor) "
      ],
      "metadata": {
        "colab": {
          "base_uri": "https://localhost:8080/"
        },
        "id": "BE7pmaEofs68",
        "outputId": "d99894b5-3ffc-48ad-cacc-57c40987e924"
      },
      "execution_count": 24,
      "outputs": [
        {
          "output_type": "stream",
          "name": "stdout",
          "text": [
            "tf.Tensor(\n",
            "[[[[0. 0. 0. 0. 0.]\n",
            "   [0. 0. 0. 0. 0.]\n",
            "   [0. 0. 0. 0. 0.]\n",
            "   [0. 0. 0. 0. 0.]]\n",
            "\n",
            "  [[0. 0. 0. 0. 0.]\n",
            "   [0. 0. 0. 0. 0.]\n",
            "   [0. 0. 0. 0. 0.]\n",
            "   [0. 0. 0. 0. 0.]]\n",
            "\n",
            "  [[0. 0. 0. 0. 0.]\n",
            "   [0. 0. 0. 0. 0.]\n",
            "   [0. 0. 0. 0. 0.]\n",
            "   [0. 0. 0. 0. 0.]]]\n",
            "\n",
            "\n",
            " [[[0. 0. 0. 0. 0.]\n",
            "   [0. 0. 0. 0. 0.]\n",
            "   [0. 0. 0. 0. 0.]\n",
            "   [0. 0. 0. 0. 0.]]\n",
            "\n",
            "  [[0. 0. 0. 0. 0.]\n",
            "   [0. 0. 0. 0. 0.]\n",
            "   [0. 0. 0. 0. 0.]\n",
            "   [0. 0. 0. 0. 0.]]\n",
            "\n",
            "  [[0. 0. 0. 0. 0.]\n",
            "   [0. 0. 0. 0. 0.]\n",
            "   [0. 0. 0. 0. 0.]\n",
            "   [0. 0. 0. 0. 0.]]]], shape=(2, 3, 4, 5), dtype=float32)\n"
          ]
        }
      ]
    },
    {
      "cell_type": "code",
      "source": [
        "print(\" Data type: \", tensor.dtype)\n",
        "print(\" Shape: \", tensor.shape)\n",
        "print(\" Rank: \", tensor.ndim)\n",
        "print(\" Size: \", tf.size(tensor)) \n",
        "print(\" Size(Numpy): \", tf.size(tensor).numpy())"
      ],
      "metadata": {
        "colab": {
          "base_uri": "https://localhost:8080/"
        },
        "id": "uzRM9F8-kQ_E",
        "outputId": "7d606ca8-e6c1-4799-d33b-462ac30db1fe"
      },
      "execution_count": 25,
      "outputs": [
        {
          "output_type": "stream",
          "name": "stdout",
          "text": [
            " Data type:  <dtype: 'float32'>\n",
            " Shape:  (2, 3, 4, 5)\n",
            " Rank:  4\n",
            " Size:  tf.Tensor(120, shape=(), dtype=int32)\n",
            " Size(Numpy):  120\n"
          ]
        }
      ]
    },
    {
      "cell_type": "markdown",
      "source": [
        "# Indexing tensors"
      ],
      "metadata": {
        "id": "SqSEENnX7yQr"
      }
    },
    {
      "cell_type": "markdown",
      "source": [
        "Tensors can be indexed like python lists"
      ],
      "metadata": {
        "id": "wBp3jLzi8ApF"
      }
    },
    {
      "cell_type": "code",
      "source": [
        "# Indexing\n",
        "print(tensor[0][2][3][2])"
      ],
      "metadata": {
        "id": "sHGCN8FvkvE8",
        "colab": {
          "base_uri": "https://localhost:8080/"
        },
        "outputId": "88e7f027-8ef9-4d77-9ee9-672d05e96968"
      },
      "execution_count": 26,
      "outputs": [
        {
          "output_type": "stream",
          "name": "stdout",
          "text": [
            "tf.Tensor(0.0, shape=(), dtype=float32)\n"
          ]
        }
      ]
    },
    {
      "cell_type": "code",
      "source": [
        "# Get first 2 elements of each dimension\n",
        "print(tensor[:2, :1, :2, :2])"
      ],
      "metadata": {
        "colab": {
          "base_uri": "https://localhost:8080/"
        },
        "id": "ZbH7EpBv76o4",
        "outputId": "28cc3ce3-7152-444f-9e2d-9f49b20481a9"
      },
      "execution_count": 27,
      "outputs": [
        {
          "output_type": "stream",
          "name": "stdout",
          "text": [
            "tf.Tensor(\n",
            "[[[[0. 0.]\n",
            "   [0. 0.]]]\n",
            "\n",
            "\n",
            " [[[0. 0.]\n",
            "   [0. 0.]]]], shape=(2, 1, 2, 2), dtype=float32)\n"
          ]
        }
      ]
    },
    {
      "cell_type": "code",
      "source": [
        "# Get the first element from each dimension from each index except for the final one\n",
        "print(tensor[:1, :1, :1])"
      ],
      "metadata": {
        "colab": {
          "base_uri": "https://localhost:8080/"
        },
        "id": "wxEvau4X8iAw",
        "outputId": "c52f7142-8c00-441c-bd59-cdbbaffbadf8"
      },
      "execution_count": 28,
      "outputs": [
        {
          "output_type": "stream",
          "name": "stdout",
          "text": [
            "tf.Tensor([[[[0. 0. 0. 0. 0.]]]], shape=(1, 1, 1, 5), dtype=float32)\n"
          ]
        }
      ]
    },
    {
      "cell_type": "code",
      "source": [
        "# create a rank 2 tensor\n",
        "ten2 = tf.Variable([[1,2],\n",
        "                   [3,4]], dtype=tf.int32)\n",
        "print(ten2)"
      ],
      "metadata": {
        "colab": {
          "base_uri": "https://localhost:8080/"
        },
        "id": "Z1FwM-Uf9K22",
        "outputId": "08b4f344-7fe2-4630-b00f-51847eaf55c7"
      },
      "execution_count": 29,
      "outputs": [
        {
          "output_type": "stream",
          "name": "stdout",
          "text": [
            "<tf.Variable 'Variable:0' shape=(2, 2) dtype=int32, numpy=\n",
            "array([[1, 2],\n",
            "       [3, 4]], dtype=int32)>\n"
          ]
        }
      ]
    },
    {
      "cell_type": "code",
      "source": [
        "#Get last item\n",
        "print(ten2[:,-1])"
      ],
      "metadata": {
        "colab": {
          "base_uri": "https://localhost:8080/"
        },
        "id": "yO2k1FKX-Kv2",
        "outputId": "5f05f307-6030-4253-a7c8-2368a71536a6"
      },
      "execution_count": 30,
      "outputs": [
        {
          "output_type": "stream",
          "name": "stdout",
          "text": [
            "tf.Tensor([2 4], shape=(2,), dtype=int32)\n"
          ]
        }
      ]
    },
    {
      "cell_type": "markdown",
      "source": [
        "# Expanding dimensions in a tensor\n"
      ],
      "metadata": {
        "id": "Al-qGLCYAu0I"
      }
    },
    {
      "cell_type": "markdown",
      "source": [
        "**tf.newaxis**"
      ],
      "metadata": {
        "id": "MqtoTW-_DXMJ"
      }
    },
    {
      "cell_type": "code",
      "source": [
        "# Add in an extra dimension to our rank to dimension\n",
        "ten3 = ten2[..., tf.newaxis]\n",
        "print(ten3)"
      ],
      "metadata": {
        "colab": {
          "base_uri": "https://localhost:8080/"
        },
        "id": "Fm0QN1qI-2PL",
        "outputId": "60928786-21a2-4246-b55e-63d0eb5587f8"
      },
      "execution_count": 31,
      "outputs": [
        {
          "output_type": "stream",
          "name": "stdout",
          "text": [
            "tf.Tensor(\n",
            "[[[1]\n",
            "  [2]]\n",
            "\n",
            " [[3]\n",
            "  [4]]], shape=(2, 2, 1), dtype=int32)\n"
          ]
        }
      ]
    },
    {
      "cell_type": "markdown",
      "source": [
        "**tf.expand_dims()**"
      ],
      "metadata": {
        "id": "ZFD0wBgxDhkt"
      }
    },
    {
      "cell_type": "markdown",
      "source": [
        "tf.expand_dims(\n",
        "    input, axis, name=None\n",
        ")"
      ],
      "metadata": {
        "id": "F7_tijyfDqBp"
      }
    },
    {
      "cell_type": "code",
      "source": [
        "#tf.expand_dims(ten3, axis=-1)  # Adding an axis at last\n",
        "\n",
        "tf.expand_dims(ten3, axis=1)  # Adding an axis at index 0"
      ],
      "metadata": {
        "colab": {
          "base_uri": "https://localhost:8080/"
        },
        "id": "ORQJTEDSBX3j",
        "outputId": "a391da6a-5c42-4d76-affd-8a8435f43a24"
      },
      "execution_count": 32,
      "outputs": [
        {
          "output_type": "execute_result",
          "data": {
            "text/plain": [
              "<tf.Tensor: shape=(2, 1, 2, 1), dtype=int32, numpy=\n",
              "array([[[[1],\n",
              "         [2]]],\n",
              "\n",
              "\n",
              "       [[[3],\n",
              "         [4]]]], dtype=int32)>"
            ]
          },
          "metadata": {},
          "execution_count": 32
        }
      ]
    },
    {
      "cell_type": "code",
      "source": [
        "tf.squeeze(ten3)"
      ],
      "metadata": {
        "colab": {
          "base_uri": "https://localhost:8080/"
        },
        "id": "RjYGHN7_D7_G",
        "outputId": "101a077a-c64d-4323-e430-68e38ce0fc2e"
      },
      "execution_count": 33,
      "outputs": [
        {
          "output_type": "execute_result",
          "data": {
            "text/plain": [
              "<tf.Tensor: shape=(2, 2), dtype=int32, numpy=\n",
              "array([[1, 2],\n",
              "       [3, 4]], dtype=int32)>"
            ]
          },
          "metadata": {},
          "execution_count": 33
        }
      ]
    },
    {
      "cell_type": "markdown",
      "source": [
        "# Manipulating tensors (tensor operations)"
      ],
      "metadata": {
        "id": "_wgM3GlLExSy"
      }
    },
    {
      "cell_type": "markdown",
      "source": [
        "**Basic Operations**\n",
        "\n",
        "--- Addition\n",
        "\n",
        "--- Subtraction \n",
        "\n",
        "--- Multiplication\n",
        "\n",
        "--- Division\n",
        "\n",
        "\n",
        "\n",
        "\n",
        "\n"
      ],
      "metadata": {
        "id": "Ji0HErhGFLCY"
      }
    },
    {
      "cell_type": "code",
      "source": [
        "# Addition\n",
        "ten_add = tf.Variable([[10,7],\n",
        "                      [4,3]])\n",
        "print(ten_add + 10)\n",
        "print()\n",
        "print(ten_add) # Original tensor is unchanged\n",
        "\n",
        "print(tf.math.add(ten_add, 10))"
      ],
      "metadata": {
        "colab": {
          "base_uri": "https://localhost:8080/"
        },
        "id": "uhGhrJkRE9vZ",
        "outputId": "a59b0d5d-59d1-4d63-abfe-205d09e77034"
      },
      "execution_count": 34,
      "outputs": [
        {
          "output_type": "stream",
          "name": "stdout",
          "text": [
            "tf.Tensor(\n",
            "[[20 17]\n",
            " [14 13]], shape=(2, 2), dtype=int32)\n",
            "\n",
            "<tf.Variable 'Variable:0' shape=(2, 2) dtype=int32, numpy=\n",
            "array([[10,  7],\n",
            "       [ 4,  3]], dtype=int32)>\n",
            "tf.Tensor(\n",
            "[[20 17]\n",
            " [14 13]], shape=(2, 2), dtype=int32)\n"
          ]
        }
      ]
    },
    {
      "cell_type": "code",
      "source": [
        "# Subtraction\n",
        "ten_sub = tf.Variable([[10,7],\n",
        "                      [4,3]])\n",
        "print(ten_sub - 10)\n",
        "print()\n",
        "print(ten_sub) # Original tensor is unchanged\n",
        "print(tf.math.subtract(ten_sub, 2))"
      ],
      "metadata": {
        "colab": {
          "base_uri": "https://localhost:8080/"
        },
        "id": "phRODQd-F2Tl",
        "outputId": "c530f036-29cd-4156-97d3-6f31d740a497"
      },
      "execution_count": 35,
      "outputs": [
        {
          "output_type": "stream",
          "name": "stdout",
          "text": [
            "tf.Tensor(\n",
            "[[ 0 -3]\n",
            " [-6 -7]], shape=(2, 2), dtype=int32)\n",
            "\n",
            "<tf.Variable 'Variable:0' shape=(2, 2) dtype=int32, numpy=\n",
            "array([[10,  7],\n",
            "       [ 4,  3]], dtype=int32)>\n",
            "tf.Tensor(\n",
            "[[8 5]\n",
            " [2 1]], shape=(2, 2), dtype=int32)\n"
          ]
        }
      ]
    },
    {
      "cell_type": "code",
      "source": [
        "# Multiplication\n",
        "ten_m  = tf.Variable([[10,7],\n",
        "                      [4,3]])\n",
        "print(ten_m*3)\n",
        "print()\n",
        "print(tf.math.multiply(ten_m, 12))"
      ],
      "metadata": {
        "colab": {
          "base_uri": "https://localhost:8080/"
        },
        "id": "OXH71cz2HWS9",
        "outputId": "c5a7ea22-dd9b-46ca-c587-e5881ba1ccba"
      },
      "execution_count": 36,
      "outputs": [
        {
          "output_type": "stream",
          "name": "stdout",
          "text": [
            "tf.Tensor(\n",
            "[[30 21]\n",
            " [12  9]], shape=(2, 2), dtype=int32)\n",
            "\n",
            "tf.Tensor(\n",
            "[[120  84]\n",
            " [ 48  36]], shape=(2, 2), dtype=int32)\n"
          ]
        }
      ]
    },
    {
      "cell_type": "code",
      "source": [
        "# Division\n",
        "ten_div = tf.Variable([[10,7],\n",
        "                      [4,3]])\n",
        "print(ten_div/2)\n",
        "print(tf.math.divide(ten_div, 3))"
      ],
      "metadata": {
        "colab": {
          "base_uri": "https://localhost:8080/"
        },
        "id": "ArP0IbcrHAEj",
        "outputId": "1a33855a-51e3-4dec-aee5-41ebe51db1bd"
      },
      "execution_count": 37,
      "outputs": [
        {
          "output_type": "stream",
          "name": "stdout",
          "text": [
            "tf.Tensor(\n",
            "[[5.  3.5]\n",
            " [2.  1.5]], shape=(2, 2), dtype=float64)\n",
            "tf.Tensor(\n",
            "[[3.33333333 2.33333333]\n",
            " [1.33333333 1.        ]], shape=(2, 2), dtype=float64)\n"
          ]
        }
      ]
    },
    {
      "cell_type": "markdown",
      "source": [
        "## Matrix Multiplication"
      ],
      "metadata": {
        "id": "mh242szpQdns"
      }
    },
    {
      "cell_type": "markdown",
      "source": [
        "\n",
        "--- tf.linalg.matmul()\n",
        "\n",
        "--- U @ V \n",
        "\n",
        "--- U * V (Element-wise multiplication)\n",
        "\n",
        "--- tf.tensordot()\n",
        "\n",
        "\n",
        "\n",
        "\n",
        "\n",
        "\n",
        "\n"
      ],
      "metadata": {
        "id": "6OHiwoGYimH5"
      }
    },
    {
      "cell_type": "code",
      "source": [
        "# Matrix Multiplication in tensorflow\n",
        "X = tf.constant([[1,2,6],\n",
        "                 [10,1,7],\n",
        "                 [2,3,4]])\n",
        "Y = tf.constant([[2,5],\n",
        "                 [6,7],\n",
        "                 [1,8]])\n",
        "print(tf.linalg.matmul(a=X, b=Y))"
      ],
      "metadata": {
        "colab": {
          "base_uri": "https://localhost:8080/"
        },
        "id": "N-Uek3FtHSoZ",
        "outputId": "c8b4e923-28a0-4442-b535-63cca5553ed7"
      },
      "execution_count": 38,
      "outputs": [
        {
          "output_type": "stream",
          "name": "stdout",
          "text": [
            "tf.Tensor(\n",
            "[[ 20  67]\n",
            " [ 33 113]\n",
            " [ 26  63]], shape=(3, 2), dtype=int32)\n"
          ]
        }
      ]
    },
    {
      "cell_type": "code",
      "source": [
        "# Matrix multiplication in python with @\n",
        "print(X @ Y)"
      ],
      "metadata": {
        "id": "IJO9YjheUDBl",
        "outputId": "4a629554-e2d0-4833-b5d1-bbc73421356c",
        "colab": {
          "base_uri": "https://localhost:8080/"
        }
      },
      "execution_count": 39,
      "outputs": [
        {
          "output_type": "stream",
          "name": "stdout",
          "text": [
            "tf.Tensor(\n",
            "[[ 20  67]\n",
            " [ 33 113]\n",
            " [ 26  63]], shape=(3, 2), dtype=int32)\n"
          ]
        }
      ]
    },
    {
      "cell_type": "code",
      "source": [
        "# Element wise multiplication\n",
        "# print(X * Y)"
      ],
      "metadata": {
        "id": "yWIiHrvMUVrL"
      },
      "execution_count": 40,
      "outputs": []
    },
    {
      "cell_type": "code",
      "source": [
        "# Matrix Multiplication with same shape\n",
        "U = tf.constant([[1,2],\n",
        "                  [3,4],\n",
        "                  [5,6]])\n",
        "V = tf.constant([[7,8],\n",
        "                 [9,10],\n",
        "                 [11,12]])\n"
      ],
      "metadata": {
        "id": "vp7L_zIqUfLg"
      },
      "execution_count": 41,
      "outputs": []
    },
    {
      "cell_type": "code",
      "source": [
        "print(tf.linalg.matmul(U,V))"
      ],
      "metadata": {
        "id": "2bGhE8fDjn9U",
        "outputId": "fe6a286a-cc41-4aba-efc4-18234c1c7dbc",
        "colab": {
          "base_uri": "https://localhost:8080/",
          "height": 311
        }
      },
      "execution_count": 42,
      "outputs": [
        {
          "output_type": "error",
          "ename": "InvalidArgumentError",
          "evalue": "ignored",
          "traceback": [
            "\u001b[0;31m---------------------------------------------------------------------------\u001b[0m",
            "\u001b[0;31mInvalidArgumentError\u001b[0m                      Traceback (most recent call last)",
            "\u001b[0;32m<ipython-input-42-7def88a29c66>\u001b[0m in \u001b[0;36m<module>\u001b[0;34m\u001b[0m\n\u001b[0;32m----> 1\u001b[0;31m \u001b[0mprint\u001b[0m\u001b[0;34m(\u001b[0m\u001b[0mtf\u001b[0m\u001b[0;34m.\u001b[0m\u001b[0mlinalg\u001b[0m\u001b[0;34m.\u001b[0m\u001b[0mmatmul\u001b[0m\u001b[0;34m(\u001b[0m\u001b[0mU\u001b[0m\u001b[0;34m,\u001b[0m\u001b[0mV\u001b[0m\u001b[0;34m)\u001b[0m\u001b[0;34m)\u001b[0m\u001b[0;34m\u001b[0m\u001b[0;34m\u001b[0m\u001b[0m\n\u001b[0m",
            "\u001b[0;32m/usr/local/lib/python3.8/dist-packages/tensorflow/python/util/traceback_utils.py\u001b[0m in \u001b[0;36merror_handler\u001b[0;34m(*args, **kwargs)\u001b[0m\n\u001b[1;32m    151\u001b[0m     \u001b[0;32mexcept\u001b[0m \u001b[0mException\u001b[0m \u001b[0;32mas\u001b[0m \u001b[0me\u001b[0m\u001b[0;34m:\u001b[0m\u001b[0;34m\u001b[0m\u001b[0;34m\u001b[0m\u001b[0m\n\u001b[1;32m    152\u001b[0m       \u001b[0mfiltered_tb\u001b[0m \u001b[0;34m=\u001b[0m \u001b[0m_process_traceback_frames\u001b[0m\u001b[0;34m(\u001b[0m\u001b[0me\u001b[0m\u001b[0;34m.\u001b[0m\u001b[0m__traceback__\u001b[0m\u001b[0;34m)\u001b[0m\u001b[0;34m\u001b[0m\u001b[0;34m\u001b[0m\u001b[0m\n\u001b[0;32m--> 153\u001b[0;31m       \u001b[0;32mraise\u001b[0m \u001b[0me\u001b[0m\u001b[0;34m.\u001b[0m\u001b[0mwith_traceback\u001b[0m\u001b[0;34m(\u001b[0m\u001b[0mfiltered_tb\u001b[0m\u001b[0;34m)\u001b[0m \u001b[0;32mfrom\u001b[0m \u001b[0;32mNone\u001b[0m\u001b[0;34m\u001b[0m\u001b[0;34m\u001b[0m\u001b[0m\n\u001b[0m\u001b[1;32m    154\u001b[0m     \u001b[0;32mfinally\u001b[0m\u001b[0;34m:\u001b[0m\u001b[0;34m\u001b[0m\u001b[0;34m\u001b[0m\u001b[0m\n\u001b[1;32m    155\u001b[0m       \u001b[0;32mdel\u001b[0m \u001b[0mfiltered_tb\u001b[0m\u001b[0;34m\u001b[0m\u001b[0;34m\u001b[0m\u001b[0m\n",
            "\u001b[0;32m/usr/local/lib/python3.8/dist-packages/tensorflow/python/framework/ops.py\u001b[0m in \u001b[0;36mraise_from_not_ok_status\u001b[0;34m(e, name)\u001b[0m\n\u001b[1;32m   7162\u001b[0m \u001b[0;32mdef\u001b[0m \u001b[0mraise_from_not_ok_status\u001b[0m\u001b[0;34m(\u001b[0m\u001b[0me\u001b[0m\u001b[0;34m,\u001b[0m \u001b[0mname\u001b[0m\u001b[0;34m)\u001b[0m\u001b[0;34m:\u001b[0m\u001b[0;34m\u001b[0m\u001b[0;34m\u001b[0m\u001b[0m\n\u001b[1;32m   7163\u001b[0m   \u001b[0me\u001b[0m\u001b[0;34m.\u001b[0m\u001b[0mmessage\u001b[0m \u001b[0;34m+=\u001b[0m \u001b[0;34m(\u001b[0m\u001b[0;34m\" name: \"\u001b[0m \u001b[0;34m+\u001b[0m \u001b[0mname\u001b[0m \u001b[0;32mif\u001b[0m \u001b[0mname\u001b[0m \u001b[0;32mis\u001b[0m \u001b[0;32mnot\u001b[0m \u001b[0;32mNone\u001b[0m \u001b[0;32melse\u001b[0m \u001b[0;34m\"\"\u001b[0m\u001b[0;34m)\u001b[0m\u001b[0;34m\u001b[0m\u001b[0;34m\u001b[0m\u001b[0m\n\u001b[0;32m-> 7164\u001b[0;31m   \u001b[0;32mraise\u001b[0m \u001b[0mcore\u001b[0m\u001b[0;34m.\u001b[0m\u001b[0m_status_to_exception\u001b[0m\u001b[0;34m(\u001b[0m\u001b[0me\u001b[0m\u001b[0;34m)\u001b[0m \u001b[0;32mfrom\u001b[0m \u001b[0;32mNone\u001b[0m  \u001b[0;31m# pylint: disable=protected-access\u001b[0m\u001b[0;34m\u001b[0m\u001b[0;34m\u001b[0m\u001b[0m\n\u001b[0m\u001b[1;32m   7165\u001b[0m \u001b[0;34m\u001b[0m\u001b[0m\n\u001b[1;32m   7166\u001b[0m \u001b[0;34m\u001b[0m\u001b[0m\n",
            "\u001b[0;31mInvalidArgumentError\u001b[0m: Matrix size-incompatible: In[0]: [3,2], In[1]: [3,2] [Op:MatMul]"
          ]
        }
      ]
    },
    {
      "cell_type": "markdown",
      "source": [
        "**tf.reshape(\n",
        "      tensor, shape, name=None\n",
        "  )**  "
      ],
      "metadata": {
        "id": "SlxC34KccQjB"
      }
    },
    {
      "cell_type": "markdown",
      "source": [
        "tf.reshape() flattens the tensor object and then rearranges according to the shape passed."
      ],
      "metadata": {
        "id": "VKMGFe--k3mP"
      }
    },
    {
      "cell_type": "code",
      "source": [
        "# Analysing the above issue\n",
        "print(\" Matrix Multiplication using tf.reshape()\")\n",
        "print(tf.linalg.matmul(tf.reshape(U, (2,3)),V))\n",
        "print()\n",
        "print(\" Reshaped tensor U \")\n",
        "print(tf.reshape(U, (2,3)))"
      ],
      "metadata": {
        "id": "CAdcj9_aZv9a",
        "outputId": "fcdf336f-69bd-4427-aac2-3950c1fce4fd",
        "colab": {
          "base_uri": "https://localhost:8080/"
        }
      },
      "execution_count": 43,
      "outputs": [
        {
          "output_type": "stream",
          "name": "stdout",
          "text": [
            " Matrix Multiplication using tf.reshape()\n",
            "tf.Tensor(\n",
            "[[ 58  64]\n",
            " [139 154]], shape=(2, 2), dtype=int32)\n",
            "\n",
            " Reshaped tensor U \n",
            "tf.Tensor(\n",
            "[[1 2 3]\n",
            " [4 5 6]], shape=(2, 3), dtype=int32)\n"
          ]
        }
      ]
    },
    {
      "cell_type": "markdown",
      "source": [
        "**tf.transpose(\n",
        "    a, perm=None, conjugate=False, name='transpose'\n",
        ")**"
      ],
      "metadata": {
        "id": "GwnGYWhUeNan"
      }
    },
    {
      "cell_type": "markdown",
      "source": [
        "tf.transpose() simply interchanges the dimensions "
      ],
      "metadata": {
        "id": "6uhI56rflLm_"
      }
    },
    {
      "cell_type": "code",
      "source": [
        "print(\" Matrix multiplication using tf.transpose() \")\n",
        "print(tf.linalg.matmul(tf.transpose(U),V))\n",
        "print()\n",
        "print(\" Transposed Matrix U\")\n",
        "print(tf.transpose(U))\n"
      ],
      "metadata": {
        "id": "6lv0IuBgaGmI",
        "outputId": "5f9dcf58-5e2a-49ce-9ee1-d0c3018babc6",
        "colab": {
          "base_uri": "https://localhost:8080/"
        }
      },
      "execution_count": 44,
      "outputs": [
        {
          "output_type": "stream",
          "name": "stdout",
          "text": [
            " Matrix multiplication using tf.transpose() \n",
            "tf.Tensor(\n",
            "[[ 89  98]\n",
            " [116 128]], shape=(2, 2), dtype=int32)\n",
            "\n",
            " Transposed Matrix U\n",
            "tf.Tensor(\n",
            "[[1 3 5]\n",
            " [2 4 6]], shape=(2, 3), dtype=int32)\n"
          ]
        }
      ]
    },
    {
      "cell_type": "markdown",
      "source": [
        "## Changing the Data type of the tensor"
      ],
      "metadata": {
        "id": "-m8GJFVt_j8f"
      }
    },
    {
      "cell_type": "markdown",
      "source": [
        "## Finding max and min position elements"
      ],
      "metadata": {
        "id": "qssRL3eMCYNe"
      }
    },
    {
      "cell_type": "markdown",
      "source": [
        "## Squeezing a tensor (Removing all 1-D series)"
      ],
      "metadata": {
        "id": "PmychJ11CnB7"
      }
    },
    {
      "cell_type": "markdown",
      "source": [
        "## One-hot Encoding"
      ],
      "metadata": {
        "id": "RjYFmh4YC47G"
      }
    },
    {
      "cell_type": "code",
      "source": [
        "# create a list of indices\n",
        "List = [1,2,3,4]\n",
        "List"
      ],
      "metadata": {
        "id": "X_HJfa-fbAW8",
        "colab": {
          "base_uri": "https://localhost:8080/"
        },
        "outputId": "f9712ada-92c7-49e4-9289-73efc3fe51e0"
      },
      "execution_count": 45,
      "outputs": [
        {
          "output_type": "execute_result",
          "data": {
            "text/plain": [
              "[1, 2, 3, 4]"
            ]
          },
          "metadata": {},
          "execution_count": 45
        }
      ]
    },
    {
      "cell_type": "code",
      "source": [
        "# one hot Encoding\n",
        "tf.one_hot(List, depth= tf.size(List), on_value=4, off_value=-1, dtype=tf.int32)"
      ],
      "metadata": {
        "id": "5ppOKX5KbS6c",
        "colab": {
          "base_uri": "https://localhost:8080/"
        },
        "outputId": "6cbd6d26-911f-4d36-b407-3f4b8b883f30"
      },
      "execution_count": 46,
      "outputs": [
        {
          "output_type": "execute_result",
          "data": {
            "text/plain": [
              "<tf.Tensor: shape=(4, 4), dtype=int32, numpy=\n",
              "array([[-1,  4, -1, -1],\n",
              "       [-1, -1,  4, -1],\n",
              "       [-1, -1, -1,  4],\n",
              "       [-1, -1, -1, -1]], dtype=int32)>"
            ]
          },
          "metadata": {},
          "execution_count": 46
        }
      ]
    },
    {
      "cell_type": "markdown",
      "source": [
        "## Some Math operations"
      ],
      "metadata": {
        "id": "gMh47Ad7jlsr"
      }
    },
    {
      "cell_type": "code",
      "source": [
        "H = tf.range(1,10)"
      ],
      "metadata": {
        "id": "42GIRnJSiVDX"
      },
      "execution_count": 47,
      "outputs": []
    },
    {
      "cell_type": "code",
      "source": [
        "# Squaring a tensor\n",
        "tf.square(H)"
      ],
      "metadata": {
        "id": "o7Du5x4QjwTk",
        "outputId": "46ab0159-1d03-47a5-c47e-35c23951fb1c",
        "colab": {
          "base_uri": "https://localhost:8080/"
        }
      },
      "execution_count": 48,
      "outputs": [
        {
          "output_type": "execute_result",
          "data": {
            "text/plain": [
              "<tf.Tensor: shape=(9,), dtype=int32, numpy=array([ 1,  4,  9, 16, 25, 36, 49, 64, 81], dtype=int32)>"
            ]
          },
          "metadata": {},
          "execution_count": 48
        }
      ]
    },
    {
      "cell_type": "code",
      "source": [
        "# Taking square root to a tensor\n",
        "tf.math.sqrt(tf.cast(H, dtype=tf.float32))"
      ],
      "metadata": {
        "id": "G_3ZU4bekEPt",
        "outputId": "10c9e64e-506c-4cfd-adac-ec12256f0aa3",
        "colab": {
          "base_uri": "https://localhost:8080/"
        }
      },
      "execution_count": 49,
      "outputs": [
        {
          "output_type": "execute_result",
          "data": {
            "text/plain": [
              "<tf.Tensor: shape=(9,), dtype=float32, numpy=\n",
              "array([1.       , 1.4142135, 1.7320508, 2.       , 2.2360678, 2.4494896,\n",
              "       2.6457512, 2.828427 , 3.       ], dtype=float32)>"
            ]
          },
          "metadata": {},
          "execution_count": 49
        }
      ]
    },
    {
      "cell_type": "code",
      "source": [
        "# Taking log transformation\n",
        "tf.math.log(tf.cast(H, dtype=tf.float32))"
      ],
      "metadata": {
        "id": "6XBPE1lZkMMA",
        "outputId": "54339df6-790d-47bf-c9a4-5f4fc02e0809",
        "colab": {
          "base_uri": "https://localhost:8080/"
        }
      },
      "execution_count": 50,
      "outputs": [
        {
          "output_type": "execute_result",
          "data": {
            "text/plain": [
              "<tf.Tensor: shape=(9,), dtype=float32, numpy=\n",
              "array([0.       , 0.6931472, 1.0986123, 1.3862944, 1.609438 , 1.7917595,\n",
              "       1.9459102, 2.0794415, 2.1972246], dtype=float32)>"
            ]
          },
          "metadata": {},
          "execution_count": 50
        }
      ]
    },
    {
      "cell_type": "markdown",
      "source": [
        "# Tensors & Numpy"
      ],
      "metadata": {
        "id": "uAGZ632ylhQF"
      }
    },
    {
      "cell_type": "markdown",
      "source": [
        "Tensors beautifully interacts with Numpy arrays"
      ],
      "metadata": {
        "id": "VG8loc_6mNrU"
      }
    },
    {
      "cell_type": "code",
      "source": [
        "I = tf.constant(np.array([1., 3., 4., 7. ]))"
      ],
      "metadata": {
        "id": "FZbapV36lC8g"
      },
      "execution_count": 51,
      "outputs": []
    },
    {
      "cell_type": "code",
      "source": [
        "# Converting tensor to a numpy array\n",
        "np.array(I)\n",
        "print(type(np.array(I)))"
      ],
      "metadata": {
        "id": "YmDAXtyMoX3L",
        "outputId": "29e61c4c-d233-4440-ddd0-878ef8f9a4d8",
        "colab": {
          "base_uri": "https://localhost:8080/"
        }
      },
      "execution_count": 52,
      "outputs": [
        {
          "output_type": "stream",
          "name": "stdout",
          "text": [
            "<class 'numpy.ndarray'>\n"
          ]
        }
      ]
    },
    {
      "cell_type": "code",
      "source": [
        "# Converting Numpy array to a tensor\n",
        "tf.constant(np.array(I))"
      ],
      "metadata": {
        "id": "SJ8FXCLwomAQ",
        "outputId": "51d4570b-f1ea-4dd0-ed0f-9c5eea970637",
        "colab": {
          "base_uri": "https://localhost:8080/"
        }
      },
      "execution_count": 53,
      "outputs": [
        {
          "output_type": "execute_result",
          "data": {
            "text/plain": [
              "<tf.Tensor: shape=(4,), dtype=float64, numpy=array([1., 3., 4., 7.])>"
            ]
          },
          "metadata": {},
          "execution_count": 53
        }
      ]
    },
    {
      "cell_type": "markdown",
      "source": [
        "# Finding Access to GPU"
      ],
      "metadata": {
        "id": "QK_KS-x8qiU8"
      }
    },
    {
      "cell_type": "code",
      "source": [
        "tf.config.list_physical_devices()"
      ],
      "metadata": {
        "id": "NHFQpcYjqXpk",
        "outputId": "5a4965c4-cbbc-40cd-ebf5-113d67ce080a",
        "colab": {
          "base_uri": "https://localhost:8080/"
        }
      },
      "execution_count": 54,
      "outputs": [
        {
          "output_type": "execute_result",
          "data": {
            "text/plain": [
              "[PhysicalDevice(name='/physical_device:CPU:0', device_type='CPU'),\n",
              " PhysicalDevice(name='/physical_device:GPU:0', device_type='GPU')]"
            ]
          },
          "metadata": {},
          "execution_count": 54
        }
      ]
    }
  ]
}