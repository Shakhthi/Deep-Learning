{
  "nbformat": 4,
  "nbformat_minor": 0,
  "metadata": {
    "colab": {
      "provenance": [],
      "toc_visible": true,
      "authorship_tag": "ABX9TyOBLOEKYq/bCA+fE5zDnoGM",
      "include_colab_link": true
    },
    "kernelspec": {
      "name": "python3",
      "display_name": "Python 3"
    },
    "language_info": {
      "name": "python"
    }
  },
  "cells": [
    {
      "cell_type": "markdown",
      "metadata": {
        "id": "view-in-github",
        "colab_type": "text"
      },
      "source": [
        "<a href=\"https://colab.research.google.com/github/Shakhthi/Deep-Learning/blob/Excercise/Excercise/00_TensorFlow_Fundamentals.ipynb\" target=\"_parent\"><img src=\"https://colab.research.google.com/assets/colab-badge.svg\" alt=\"Open In Colab\"/></a>"
      ]
    },
    {
      "cell_type": "markdown",
      "source": [
        "# **Intro to Tensors**"
      ],
      "metadata": {
        "id": "Sknk71x_e3uk"
      }
    },
    {
      "cell_type": "code",
      "source": [
        "# Import TensorFlow \n",
        "import tensorflow as tf "
      ],
      "metadata": {
        "id": "jtni-o0UgW4I"
      },
      "execution_count": null,
      "outputs": []
    },
    {
      "cell_type": "code",
      "source": [
        "# Version Checkup\n",
        "tf.__version__"
      ],
      "metadata": {
        "colab": {
          "base_uri": "https://localhost:8080/",
          "height": 35
        },
        "id": "Sd9ZyfKSg_sX",
        "outputId": "a9fb055a-dd91-4704-dc99-e11bcc814fa4"
      },
      "execution_count": null,
      "outputs": [
        {
          "output_type": "execute_result",
          "data": {
            "text/plain": [
              "'2.9.2'"
            ],
            "application/vnd.google.colaboratory.intrinsic+json": {
              "type": "string"
            }
          },
          "metadata": {},
          "execution_count": 115
        }
      ]
    },
    {
      "cell_type": "markdown",
      "source": [
        "### **tf.constant()**"
      ],
      "metadata": {
        "id": "GTVnjKuPuC0v"
      }
    },
    {
      "cell_type": "markdown",
      "source": [
        "Creates a constant tensor.\n",
        "\n",
        "The resulting tensor is populated with values of type dtype, as specified by arguments value and (optionally) shape (see examples below).\n",
        "\n",
        "The argument value can be a constant value, or a list of values of type dtype. If value is a list, then the length of the list must be less than or equal to the number of elements implied by the shape argument (if specified). In the case where the list length is less than the number of elements specified by shape, the last element in the list will be used to fill the remaining entries.\n",
        "\n",
        "The argument shape is optional. If present, it specifies the dimensions of the resulting tensor. If not present, the shape of value is used.\n",
        "\n",
        "If the argument dtype is not specified, then the type is inferred from the type of value."
      ],
      "metadata": {
        "id": "aZFtOgPvtofw"
      }
    },
    {
      "cell_type": "markdown",
      "source": [
        "**Args**:\n",
        "\n",
        "value: A constant value (or list) of output type dtype.\n",
        "\n",
        "dtype: The type of the elements of the resulting tensor.\n",
        "\n",
        "shape: Optional dimensions of resulting tensor.\n",
        "\n",
        "name: Optional name for the tensor.\n",
        "\n",
        "verify_shape: Boolean that enables verification of a shape of values.\n",
        "\n",
        "**Returns:**\n",
        "A Constant Tensor.\n",
        "\n",
        "**Raises:**\n",
        "TypeError: if shape is incorrectly specified or unsupported."
      ],
      "metadata": {
        "id": "3W-ar0jLuSsm"
      }
    },
    {
      "cell_type": "code",
      "source": [
        "# Create a Tensor with tf.constent()\n",
        "scalar = tf.constant(4)\n",
        "print(scalar)"
      ],
      "metadata": {
        "colab": {
          "base_uri": "https://localhost:8080/"
        },
        "id": "0ZKa9JIXhSXr",
        "outputId": "0819c99b-fb18-4f08-9828-54eac42e8944"
      },
      "execution_count": null,
      "outputs": [
        {
          "output_type": "stream",
          "name": "stdout",
          "text": [
            "tf.Tensor(4, shape=(), dtype=int32)\n"
          ]
        }
      ]
    },
    {
      "cell_type": "code",
      "source": [
        "# Check the number of dimensions\n",
        "scalar.ndim"
      ],
      "metadata": {
        "colab": {
          "base_uri": "https://localhost:8080/"
        },
        "id": "STUYh-pRhngC",
        "outputId": "95e2d8e8-3f4f-40f1-fc95-290b9512398a"
      },
      "execution_count": null,
      "outputs": [
        {
          "output_type": "execute_result",
          "data": {
            "text/plain": [
              "0"
            ]
          },
          "metadata": {},
          "execution_count": 117
        }
      ]
    },
    {
      "cell_type": "code",
      "source": [
        " # Create a vector with tf.constant()\n",
        "vector = tf.constant([10,10])\n",
        "print(vector) "
      ],
      "metadata": {
        "colab": {
          "base_uri": "https://localhost:8080/"
        },
        "id": "4NYK5YV5hyJf",
        "outputId": "4d8d4fe2-cdc4-4b21-aeee-e2fd61502f20"
      },
      "execution_count": null,
      "outputs": [
        {
          "output_type": "stream",
          "name": "stdout",
          "text": [
            "tf.Tensor([10 10], shape=(2,), dtype=int32)\n"
          ]
        }
      ]
    },
    {
      "cell_type": "code",
      "source": [
        "vector.ndim "
      ],
      "metadata": {
        "colab": {
          "base_uri": "https://localhost:8080/"
        },
        "id": "8GwQWpsdi97b",
        "outputId": "9e1ed67e-e838-4780-f720-5df9e4f9de41"
      },
      "execution_count": null,
      "outputs": [
        {
          "output_type": "execute_result",
          "data": {
            "text/plain": [
              "1"
            ]
          },
          "metadata": {},
          "execution_count": 119
        }
      ]
    },
    {
      "cell_type": "code",
      "source": [
        "# Create a matrix\n",
        "matrix = tf.constant([[10,7],\n",
        "                      [7,10]])\n",
        "print(matrix)"
      ],
      "metadata": {
        "colab": {
          "base_uri": "https://localhost:8080/"
        },
        "id": "SEVmu3BxiWc0",
        "outputId": "4bf06487-ac8c-4c7e-edc6-8cca5620c501"
      },
      "execution_count": null,
      "outputs": [
        {
          "output_type": "stream",
          "name": "stdout",
          "text": [
            "tf.Tensor(\n",
            "[[10  7]\n",
            " [ 7 10]], shape=(2, 2), dtype=int32)\n"
          ]
        }
      ]
    },
    {
      "cell_type": "code",
      "source": [
        "float_matrix = tf.constant([[10., 7.],\n",
        "                           [3.,2.],\n",
        "                           [8.,9.]], dtype=tf.float16)  # Specify the data type with dtype\n",
        "print(float_matrix)                           "
      ],
      "metadata": {
        "colab": {
          "base_uri": "https://localhost:8080/"
        },
        "id": "FUZ3pQyVi07u",
        "outputId": "c4651b92-e9ad-4826-8741-be2d31493205"
      },
      "execution_count": null,
      "outputs": [
        {
          "output_type": "stream",
          "name": "stdout",
          "text": [
            "tf.Tensor(\n",
            "[[10.  7.]\n",
            " [ 3.  2.]\n",
            " [ 8.  9.]], shape=(3, 2), dtype=float16)\n"
          ]
        }
      ]
    },
    {
      "cell_type": "code",
      "source": [
        "float_matrix.ndim"
      ],
      "metadata": {
        "colab": {
          "base_uri": "https://localhost:8080/"
        },
        "id": "0_n6O9hIj0Fm",
        "outputId": "6cbbb32d-c31a-4814-f5b8-a5a1de45e6a6"
      },
      "execution_count": null,
      "outputs": [
        {
          "output_type": "execute_result",
          "data": {
            "text/plain": [
              "2"
            ]
          },
          "metadata": {},
          "execution_count": 122
        }
      ]
    },
    {
      "cell_type": "code",
      "source": [
        " #  Let's create a Tensor\n",
        "tensor = tf.constant([[[1,2,3],\n",
        "                       [4,5,6]],\n",
        "                      [[7,8,9],\n",
        "                       [10,11,12]],\n",
        "                      [[13,14,15],\n",
        "                       [16,17,18]]])\n",
        "print(tensor)"
      ],
      "metadata": {
        "colab": {
          "base_uri": "https://localhost:8080/"
        },
        "id": "YRJNKFG1j_aP",
        "outputId": "09e3319e-ecee-4994-d0be-20e30fe95b93"
      },
      "execution_count": null,
      "outputs": [
        {
          "output_type": "stream",
          "name": "stdout",
          "text": [
            "tf.Tensor(\n",
            "[[[ 1  2  3]\n",
            "  [ 4  5  6]]\n",
            "\n",
            " [[ 7  8  9]\n",
            "  [10 11 12]]\n",
            "\n",
            " [[13 14 15]\n",
            "  [16 17 18]]], shape=(3, 2, 3), dtype=int32)\n"
          ]
        }
      ]
    },
    {
      "cell_type": "code",
      "source": [
        "tensor.ndim"
      ],
      "metadata": {
        "colab": {
          "base_uri": "https://localhost:8080/"
        },
        "id": "tc2SulHklauU",
        "outputId": "41dcf694-b95d-4b44-94a2-586fef1bf491"
      },
      "execution_count": null,
      "outputs": [
        {
          "output_type": "execute_result",
          "data": {
            "text/plain": [
              "3"
            ]
          },
          "metadata": {},
          "execution_count": 124
        }
      ]
    },
    {
      "cell_type": "markdown",
      "source": [
        "  ### **tf.Variable()**"
      ],
      "metadata": {
        "id": "rvl0rDYz0tk5"
      }
    },
    {
      "cell_type": "markdown",
      "source": [
        "tf.Variable(  \n",
        "    initial_value=None,\n",
        "    trainable=None,\n",
        "    validate_shape=True,\n",
        "    caching_device=None,\n",
        "    name=None,\n",
        "    variable_def=None,\n",
        "    dtype=None,\n",
        "    import_scope=None,\n",
        "    constraint=None,\n",
        "    synchronization=tf.VariableSynchronization.AUTO,\n",
        "    aggregation=tf.compat.v1.VariableAggregation.NONE,\n",
        "    shape=None,\n",
        "    experimental_enable_variable_lifting=True\n",
        "  )"
      ],
      "metadata": {
        "id": "VtKQzw522Ty7"
      }
    },
    {
      "cell_type": "markdown",
      "source": [
        "### **Creating Tensors with tf.Variable**"
      ],
      "metadata": {
        "id": "uABmJkR0zAE8"
      }
    },
    {
      "cell_type": "code",
      "source": [
        " # Create the same tensor with tf.variable\n",
        "unchangable_tensor = tf.constant([10,7,4,5], shape=(2,2))\n",
        "changable_tensor = tf.Variable([10,7,12,4])\n",
        "unchangable_tensor, changable_tensor"
      ],
      "metadata": {
        "colab": {
          "base_uri": "https://localhost:8080/"
        },
        "id": "sKSWc4SwmJSw",
        "outputId": "6c92546d-5d7f-453c-ed4c-ec784320d8d7"
      },
      "execution_count": null,
      "outputs": [
        {
          "output_type": "execute_result",
          "data": {
            "text/plain": [
              "(<tf.Tensor: shape=(2, 2), dtype=int32, numpy=\n",
              " array([[10,  7],\n",
              "        [ 4,  5]], dtype=int32)>,\n",
              " <tf.Variable 'Variable:0' shape=(4,) dtype=int32, numpy=array([10,  7, 12,  4], dtype=int32)>)"
            ]
          },
          "metadata": {},
          "execution_count": 125
        }
      ]
    },
    {
      "cell_type": "markdown",
      "source": [
        "### **Assinging values to the tensor**"
      ],
      "metadata": {
        "id": "F-oJZsZd8MPk"
      }
    },
    {
      "cell_type": "code",
      "source": [
        "# Changing Values\n",
        "changable_tensor[0].assign(7)"
      ],
      "metadata": {
        "id": "3BUE5U9sxnDN",
        "colab": {
          "base_uri": "https://localhost:8080/"
        },
        "outputId": "87510397-3732-4611-b2bd-7828d7d20d60"
      },
      "execution_count": null,
      "outputs": [
        {
          "output_type": "execute_result",
          "data": {
            "text/plain": [
              "<tf.Variable 'UnreadVariable' shape=(4,) dtype=int32, numpy=array([ 7,  7, 12,  4], dtype=int32)>"
            ]
          },
          "metadata": {},
          "execution_count": 126
        }
      ]
    },
    {
      "cell_type": "markdown",
      "source": [
        "### **Creating random tensors**"
      ],
      "metadata": {
        "id": "FN4CQu0x38wV"
      }
    },
    {
      "cell_type": "markdown",
      "source": [
        "**tf.random.normal**\n",
        "\n",
        " (\n",
        "    shape,\n",
        "    mean=0.0,\n",
        "    stddev=1.0,\n",
        "    dtype=tf.dtypes.float32,\n",
        "    seed=None,\n",
        "    name=None\n",
        " )"
      ],
      "metadata": {
        "id": "4lNQK42v-i27"
      }
    },
    {
      "cell_type": "markdown",
      "source": [
        "**Normal distribution**\n",
        "\n",
        "Normal distribution, also known as the Gaussian distribution, is a probability distribution that is symmetric about the mean, showing that data near the mean are more frequent in occurrence than data far from the mean.\n",
        "\n",
        "In graphical form, the normal distribution appears as a \"bell curve\"."
      ],
      "metadata": {
        "id": "rckLIqISBgK1"
      }
    },
    {
      "cell_type": "code",
      "source": [
        "random1 = tf.random.Generator.from_seed(42)\n",
        "random1 = random1.normal(shape=(3,2))\n",
        "\n",
        "random2 = tf.random.Generator.from_seed(42)\n",
        "random2 = random2.normal(shape=(3,2))\n",
        "\n",
        "random1, random2, random1 == random2"
      ],
      "metadata": {
        "colab": {
          "base_uri": "https://localhost:8080/"
        },
        "id": "50geddLI4SYf",
        "outputId": "4c10f518-2def-4ac9-dfe0-d2330e9d665f"
      },
      "execution_count": null,
      "outputs": [
        {
          "output_type": "execute_result",
          "data": {
            "text/plain": [
              "(<tf.Tensor: shape=(3, 2), dtype=float32, numpy=\n",
              " array([[-0.7565803 , -0.06854702],\n",
              "        [ 0.07595026, -1.2573844 ],\n",
              "        [-0.23193763, -1.8107855 ]], dtype=float32)>,\n",
              " <tf.Tensor: shape=(3, 2), dtype=float32, numpy=\n",
              " array([[-0.7565803 , -0.06854702],\n",
              "        [ 0.07595026, -1.2573844 ],\n",
              "        [-0.23193763, -1.8107855 ]], dtype=float32)>,\n",
              " <tf.Tensor: shape=(3, 2), dtype=bool, numpy=\n",
              " array([[ True,  True],\n",
              "        [ True,  True],\n",
              "        [ True,  True]])>)"
            ]
          },
          "metadata": {},
          "execution_count": 127
        }
      ]
    },
    {
      "cell_type": "markdown",
      "source": [
        "**tf.random.uniform**\n",
        "\n",
        "(\n",
        "    shape,\n",
        "    minval=0,\n",
        "    maxval=None,\n",
        "    dtype=tf.dtypes.float32,\n",
        "    seed=None,\n",
        "    name=None\n",
        ")"
      ],
      "metadata": {
        "id": "AmI3z04aCPBG"
      }
    },
    {
      "cell_type": "markdown",
      "source": [
        "**Uniform Distribution**\n",
        "\n",
        "A uniform distribution, also called a rectangular distribution, is a probability distribution that has constant probability.\n"
      ],
      "metadata": {
        "id": "-TwnhyQq_1sh"
      }
    },
    {
      "cell_type": "code",
      "source": [
        "random3 = tf.random.Generator.from_seed(42)\n",
        "random3 = random3.uniform(shape=(3,2))\n",
        "\n",
        "random4 = tf.random.Generator.from_seed(42)\n",
        "random4 = random4.uniform(shape=(3,2))\n",
        "\n",
        "random3, random4, random3 == random4"
      ],
      "metadata": {
        "colab": {
          "base_uri": "https://localhost:8080/"
        },
        "id": "vxQd-0y9CZ4V",
        "outputId": "7acf1d38-83d2-4b8a-ebdd-7167671a3a2a"
      },
      "execution_count": null,
      "outputs": [
        {
          "output_type": "execute_result",
          "data": {
            "text/plain": [
              "(<tf.Tensor: shape=(3, 2), dtype=float32, numpy=\n",
              " array([[0.7493447 , 0.73561966],\n",
              "        [0.45230794, 0.49039817],\n",
              "        [0.1889317 , 0.52027524]], dtype=float32)>,\n",
              " <tf.Tensor: shape=(3, 2), dtype=float32, numpy=\n",
              " array([[0.7493447 , 0.73561966],\n",
              "        [0.45230794, 0.49039817],\n",
              "        [0.1889317 , 0.52027524]], dtype=float32)>,\n",
              " <tf.Tensor: shape=(3, 2), dtype=bool, numpy=\n",
              " array([[ True,  True],\n",
              "        [ True,  True],\n",
              "        [ True,  True]])>)"
            ]
          },
          "metadata": {},
          "execution_count": 128
        }
      ]
    },
    {
      "cell_type": "markdown",
      "source": [
        "### Shuffling the tensors"
      ],
      "metadata": {
        "id": "cscqG1VrWYyV"
      }
    },
    {
      "cell_type": "code",
      "source": [
        "shuffle  = tf.constant([[1,2],\n",
        "                       [9,8],\n",
        "                       [5,0],\n",
        "                       [4,3]]) \n"
      ],
      "metadata": {
        "id": "vJZED4UAWehC"
      },
      "execution_count": null,
      "outputs": []
    },
    {
      "cell_type": "code",
      "source": [
        "tf.random.set_seed(7)   # Global level seed\n",
        "tf.random.shuffle(shuffle)   # Operation level seed"
      ],
      "metadata": {
        "colab": {
          "base_uri": "https://localhost:8080/"
        },
        "id": "8AcnkC1NWumU",
        "outputId": "72565f0a-627b-473a-e4b3-a05b7f6c0ddb"
      },
      "execution_count": null,
      "outputs": [
        {
          "output_type": "execute_result",
          "data": {
            "text/plain": [
              "<tf.Tensor: shape=(4, 2), dtype=int32, numpy=\n",
              "array([[5, 0],\n",
              "       [1, 2],\n",
              "       [4, 3],\n",
              "       [9, 8]], dtype=int32)>"
            ]
          },
          "metadata": {},
          "execution_count": 130
        }
      ]
    },
    {
      "cell_type": "markdown",
      "source": [
        "### Other ways to create tensors"
      ],
      "metadata": {
        "id": "JELhN6LaYlua"
      }
    },
    {
      "cell_type": "code",
      "source": [
        "tf.ones(10, tf.int32 )"
      ],
      "metadata": {
        "colab": {
          "base_uri": "https://localhost:8080/"
        },
        "id": "OTEMiuqZYhYU",
        "outputId": "01fcd37d-2ff5-47b5-f035-9e4e5c21ac07"
      },
      "execution_count": null,
      "outputs": [
        {
          "output_type": "execute_result",
          "data": {
            "text/plain": [
              "<tf.Tensor: shape=(10,), dtype=int32, numpy=array([1, 1, 1, 1, 1, 1, 1, 1, 1, 1], dtype=int32)>"
            ]
          },
          "metadata": {},
          "execution_count": 131
        }
      ]
    },
    {
      "cell_type": "code",
      "source": [
        "tf.zeros(5)"
      ],
      "metadata": {
        "colab": {
          "base_uri": "https://localhost:8080/"
        },
        "id": "753W_jCDYk8r",
        "outputId": "ef984b53-9d06-4c6d-b059-579fa033b5b2"
      },
      "execution_count": null,
      "outputs": [
        {
          "output_type": "execute_result",
          "data": {
            "text/plain": [
              "<tf.Tensor: shape=(5,), dtype=float32, numpy=array([0., 0., 0., 0., 0.], dtype=float32)>"
            ]
          },
          "metadata": {},
          "execution_count": 132
        }
      ]
    },
    {
      "cell_type": "markdown",
      "source": [
        "**Creating tensors using numpy array's**"
      ],
      "metadata": {
        "id": "J9--48-0cAk6"
      }
    },
    {
      "cell_type": "code",
      "source": [
        "import numpy as np "
      ],
      "metadata": {
        "id": "hnEuly85b1oH"
      },
      "execution_count": null,
      "outputs": []
    },
    {
      "cell_type": "code",
      "source": [
        "a = np.arange(1,25, dtype=np.int32)\n",
        "print(a)"
      ],
      "metadata": {
        "colab": {
          "base_uri": "https://localhost:8080/"
        },
        "id": "iPZlElzPcSGF",
        "outputId": "e5f5c92d-9383-46c6-c304-e3cc62a7d7a0"
      },
      "execution_count": null,
      "outputs": [
        {
          "output_type": "stream",
          "name": "stdout",
          "text": [
            "[ 1  2  3  4  5  6  7  8  9 10 11 12 13 14 15 16 17 18 19 20 21 22 23 24]\n"
          ]
        }
      ]
    },
    {
      "cell_type": "code",
      "source": [
        "A = tf.constant(a, shape=(3,2,4), dtype=tf.int64)\n",
        "print(A)"
      ],
      "metadata": {
        "colab": {
          "base_uri": "https://localhost:8080/"
        },
        "id": "20qIhkLGcZkZ",
        "outputId": "9f02f64c-dc31-40fd-fa40-2201286e2866"
      },
      "execution_count": null,
      "outputs": [
        {
          "output_type": "stream",
          "name": "stdout",
          "text": [
            "tf.Tensor(\n",
            "[[[ 1  2  3  4]\n",
            "  [ 5  6  7  8]]\n",
            "\n",
            " [[ 9 10 11 12]\n",
            "  [13 14 15 16]]\n",
            "\n",
            " [[17 18 19 20]\n",
            "  [21 22 23 24]]], shape=(3, 2, 4), dtype=int64)\n"
          ]
        }
      ]
    },
    {
      "cell_type": "code",
      "source": [
        "tf.Variable([1,2,3,4,5,6], dtype=tf.float32)\n",
        "# In tf.Variable, can't alter the shape "
      ],
      "metadata": {
        "colab": {
          "base_uri": "https://localhost:8080/"
        },
        "id": "jI4b8-VJctBt",
        "outputId": "76ad39d1-433a-42c3-9392-0752fb490741"
      },
      "execution_count": null,
      "outputs": [
        {
          "output_type": "execute_result",
          "data": {
            "text/plain": [
              "<tf.Variable 'Variable:0' shape=(6,) dtype=float32, numpy=array([1., 2., 3., 4., 5., 6.], dtype=float32)>"
            ]
          },
          "metadata": {},
          "execution_count": 136
        }
      ]
    },
    {
      "cell_type": "markdown",
      "source": [
        "# Getting information from tensors\n",
        "## (dtype, shape, Rank, size)"
      ],
      "metadata": {
        "id": "a7BBZcaxmBFV"
      }
    },
    {
      "cell_type": "code",
      "source": [
        "tensor  = tf.zeros(shape=[2,3,4,5])\n",
        "print(tensor) "
      ],
      "metadata": {
        "colab": {
          "base_uri": "https://localhost:8080/"
        },
        "id": "BE7pmaEofs68",
        "outputId": "b6c2b919-2f44-4be8-ec60-ca62e6a543d4"
      },
      "execution_count": null,
      "outputs": [
        {
          "output_type": "stream",
          "name": "stdout",
          "text": [
            "tf.Tensor(\n",
            "[[[[0. 0. 0. 0. 0.]\n",
            "   [0. 0. 0. 0. 0.]\n",
            "   [0. 0. 0. 0. 0.]\n",
            "   [0. 0. 0. 0. 0.]]\n",
            "\n",
            "  [[0. 0. 0. 0. 0.]\n",
            "   [0. 0. 0. 0. 0.]\n",
            "   [0. 0. 0. 0. 0.]\n",
            "   [0. 0. 0. 0. 0.]]\n",
            "\n",
            "  [[0. 0. 0. 0. 0.]\n",
            "   [0. 0. 0. 0. 0.]\n",
            "   [0. 0. 0. 0. 0.]\n",
            "   [0. 0. 0. 0. 0.]]]\n",
            "\n",
            "\n",
            " [[[0. 0. 0. 0. 0.]\n",
            "   [0. 0. 0. 0. 0.]\n",
            "   [0. 0. 0. 0. 0.]\n",
            "   [0. 0. 0. 0. 0.]]\n",
            "\n",
            "  [[0. 0. 0. 0. 0.]\n",
            "   [0. 0. 0. 0. 0.]\n",
            "   [0. 0. 0. 0. 0.]\n",
            "   [0. 0. 0. 0. 0.]]\n",
            "\n",
            "  [[0. 0. 0. 0. 0.]\n",
            "   [0. 0. 0. 0. 0.]\n",
            "   [0. 0. 0. 0. 0.]\n",
            "   [0. 0. 0. 0. 0.]]]], shape=(2, 3, 4, 5), dtype=float32)\n"
          ]
        }
      ]
    },
    {
      "cell_type": "code",
      "source": [
        "print(\" Data type: \", tensor.dtype)\n",
        "print(\" Shape: \", tensor.shape)\n",
        "print(\" Rank: \", tensor.ndim)\n",
        "print(\" Size: \", tf.size(tensor)) \n",
        "print(\" Size(Numpy): \", tf.size(tensor).numpy())"
      ],
      "metadata": {
        "colab": {
          "base_uri": "https://localhost:8080/"
        },
        "id": "uzRM9F8-kQ_E",
        "outputId": "ceae1a5b-f1f5-44db-a739-cf7a2f9a4f47"
      },
      "execution_count": null,
      "outputs": [
        {
          "output_type": "stream",
          "name": "stdout",
          "text": [
            " Data type:  <dtype: 'float32'>\n",
            " Shape:  (2, 3, 4, 5)\n",
            " Rank:  4\n",
            " Size:  tf.Tensor(120, shape=(), dtype=int32)\n",
            " Size(Numpy):  120\n"
          ]
        }
      ]
    },
    {
      "cell_type": "code",
      "source": [],
      "metadata": {
        "id": "sHGCN8FvkvE8"
      },
      "execution_count": null,
      "outputs": []
    }
  ]
}