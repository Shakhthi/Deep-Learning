{
  "nbformat": 4,
  "nbformat_minor": 0,
  "metadata": {
    "colab": {
      "provenance": [],
      "toc_visible": true,
      "authorship_tag": "ABX9TyMFHyjkvbYx/ON/ZrO81VJK",
      "include_colab_link": true
    },
    "kernelspec": {
      "name": "python3",
      "display_name": "Python 3"
    },
    "language_info": {
      "name": "python"
    }
  },
  "cells": [
    {
      "cell_type": "markdown",
      "metadata": {
        "id": "view-in-github",
        "colab_type": "text"
      },
      "source": [
        "<a href=\"https://colab.research.google.com/github/Shakhthi/Deep-Learning/blob/Excercise/Excercise/00_TensorFlow_Fundamentals.ipynb\" target=\"_parent\"><img src=\"https://colab.research.google.com/assets/colab-badge.svg\" alt=\"Open In Colab\"/></a>"
      ]
    },
    {
      "cell_type": "markdown",
      "source": [
        "# **Intro to Tensors**"
      ],
      "metadata": {
        "id": "Sknk71x_e3uk"
      }
    },
    {
      "cell_type": "code",
      "source": [
        "# Import TensorFlow \n",
        "import tensorflow as tf "
      ],
      "metadata": {
        "id": "jtni-o0UgW4I"
      },
      "execution_count": 1,
      "outputs": []
    },
    {
      "cell_type": "code",
      "source": [
        "# Version Checkup\n",
        "tf.__version__"
      ],
      "metadata": {
        "colab": {
          "base_uri": "https://localhost:8080/",
          "height": 35
        },
        "id": "Sd9ZyfKSg_sX",
        "outputId": "e2b830f1-1c1f-4586-d451-347da7cdb886"
      },
      "execution_count": 2,
      "outputs": [
        {
          "output_type": "execute_result",
          "data": {
            "text/plain": [
              "'2.9.2'"
            ],
            "application/vnd.google.colaboratory.intrinsic+json": {
              "type": "string"
            }
          },
          "metadata": {},
          "execution_count": 2
        }
      ]
    },
    {
      "cell_type": "markdown",
      "source": [
        "### **tf.constant()**"
      ],
      "metadata": {
        "id": "GTVnjKuPuC0v"
      }
    },
    {
      "cell_type": "markdown",
      "source": [
        "Creates a constant tensor.\n",
        "\n",
        "The resulting tensor is populated with values of type dtype, as specified by arguments value and (optionally) shape (see examples below).\n",
        "\n",
        "The argument value can be a constant value, or a list of values of type dtype. If value is a list, then the length of the list must be less than or equal to the number of elements implied by the shape argument (if specified). In the case where the list length is less than the number of elements specified by shape, the last element in the list will be used to fill the remaining entries.\n",
        "\n",
        "The argument shape is optional. If present, it specifies the dimensions of the resulting tensor. If not present, the shape of value is used.\n",
        "\n",
        "If the argument dtype is not specified, then the type is inferred from the type of value."
      ],
      "metadata": {
        "id": "aZFtOgPvtofw"
      }
    },
    {
      "cell_type": "markdown",
      "source": [
        "**Args**:\n",
        "\n",
        "value: A constant value (or list) of output type dtype.\n",
        "\n",
        "dtype: The type of the elements of the resulting tensor.\n",
        "\n",
        "shape: Optional dimensions of resulting tensor.\n",
        "\n",
        "name: Optional name for the tensor.\n",
        "\n",
        "verify_shape: Boolean that enables verification of a shape of values.\n",
        "\n",
        "**Returns:**\n",
        "A Constant Tensor.\n",
        "\n",
        "**Raises:**\n",
        "TypeError: if shape is incorrectly specified or unsupported."
      ],
      "metadata": {
        "id": "3W-ar0jLuSsm"
      }
    },
    {
      "cell_type": "code",
      "source": [
        "# Create a Tensor with tf.constent()\n",
        "scalar = tf.constant(4)\n",
        "print(scalar)"
      ],
      "metadata": {
        "colab": {
          "base_uri": "https://localhost:8080/"
        },
        "id": "0ZKa9JIXhSXr",
        "outputId": "5098d612-55af-474a-d358-30b1dc5c080c"
      },
      "execution_count": 3,
      "outputs": [
        {
          "output_type": "stream",
          "name": "stdout",
          "text": [
            "tf.Tensor(4, shape=(), dtype=int32)\n"
          ]
        }
      ]
    },
    {
      "cell_type": "code",
      "source": [
        "# Check the number of dimensions\n",
        "scalar.ndim"
      ],
      "metadata": {
        "colab": {
          "base_uri": "https://localhost:8080/"
        },
        "id": "STUYh-pRhngC",
        "outputId": "30eff3ca-3817-4119-ca74-1a2742518df5"
      },
      "execution_count": 4,
      "outputs": [
        {
          "output_type": "execute_result",
          "data": {
            "text/plain": [
              "0"
            ]
          },
          "metadata": {},
          "execution_count": 4
        }
      ]
    },
    {
      "cell_type": "code",
      "source": [
        " # Create a vector with tf.constant()\n",
        "vector = tf.constant([10,10])\n",
        "print(vector) "
      ],
      "metadata": {
        "colab": {
          "base_uri": "https://localhost:8080/"
        },
        "id": "4NYK5YV5hyJf",
        "outputId": "26d75cfd-031c-467c-95a6-627664185a10"
      },
      "execution_count": 5,
      "outputs": [
        {
          "output_type": "stream",
          "name": "stdout",
          "text": [
            "tf.Tensor([10 10], shape=(2,), dtype=int32)\n"
          ]
        }
      ]
    },
    {
      "cell_type": "code",
      "source": [
        "vector.ndim "
      ],
      "metadata": {
        "colab": {
          "base_uri": "https://localhost:8080/"
        },
        "id": "8GwQWpsdi97b",
        "outputId": "f31877f2-44c9-4908-e085-d1f3723fd38c"
      },
      "execution_count": 6,
      "outputs": [
        {
          "output_type": "execute_result",
          "data": {
            "text/plain": [
              "1"
            ]
          },
          "metadata": {},
          "execution_count": 6
        }
      ]
    },
    {
      "cell_type": "code",
      "source": [
        "# Create a matrix\n",
        "matrix = tf.constant([[10,7],\n",
        "                      [7,10]])\n",
        "print(matrix)"
      ],
      "metadata": {
        "colab": {
          "base_uri": "https://localhost:8080/"
        },
        "id": "SEVmu3BxiWc0",
        "outputId": "c18eaf6b-37ab-459f-b1da-ae248e53757c"
      },
      "execution_count": 7,
      "outputs": [
        {
          "output_type": "stream",
          "name": "stdout",
          "text": [
            "tf.Tensor(\n",
            "[[10  7]\n",
            " [ 7 10]], shape=(2, 2), dtype=int32)\n"
          ]
        }
      ]
    },
    {
      "cell_type": "code",
      "source": [
        "float_matrix = tf.constant([[10., 7.],\n",
        "                           [3.,2.],\n",
        "                           [8.,9.]], dtype=tf.float16)  # Specify the data type with dtype\n",
        "print(float_matrix)                           "
      ],
      "metadata": {
        "colab": {
          "base_uri": "https://localhost:8080/"
        },
        "id": "FUZ3pQyVi07u",
        "outputId": "74d3e0dd-11c9-4c65-87ad-33d86e6341a8"
      },
      "execution_count": 8,
      "outputs": [
        {
          "output_type": "stream",
          "name": "stdout",
          "text": [
            "tf.Tensor(\n",
            "[[10.  7.]\n",
            " [ 3.  2.]\n",
            " [ 8.  9.]], shape=(3, 2), dtype=float16)\n"
          ]
        }
      ]
    },
    {
      "cell_type": "code",
      "source": [
        "float_matrix.ndim"
      ],
      "metadata": {
        "colab": {
          "base_uri": "https://localhost:8080/"
        },
        "id": "0_n6O9hIj0Fm",
        "outputId": "e1cbea7d-c871-4ded-d71f-06046bf205f9"
      },
      "execution_count": 9,
      "outputs": [
        {
          "output_type": "execute_result",
          "data": {
            "text/plain": [
              "2"
            ]
          },
          "metadata": {},
          "execution_count": 9
        }
      ]
    },
    {
      "cell_type": "code",
      "source": [
        " #  Let's create a Tensor\n",
        "tensor = tf.constant([[[1,2,3],\n",
        "                       [4,5,6]],\n",
        "                      [[7,8,9],\n",
        "                       [10,11,12]],\n",
        "                      [[13,14,15],\n",
        "                       [16,17,18]]])\n",
        "print(tensor)"
      ],
      "metadata": {
        "colab": {
          "base_uri": "https://localhost:8080/"
        },
        "id": "YRJNKFG1j_aP",
        "outputId": "9cd2acde-071a-4257-ee74-228a8b9a41a1"
      },
      "execution_count": 10,
      "outputs": [
        {
          "output_type": "stream",
          "name": "stdout",
          "text": [
            "tf.Tensor(\n",
            "[[[ 1  2  3]\n",
            "  [ 4  5  6]]\n",
            "\n",
            " [[ 7  8  9]\n",
            "  [10 11 12]]\n",
            "\n",
            " [[13 14 15]\n",
            "  [16 17 18]]], shape=(3, 2, 3), dtype=int32)\n"
          ]
        }
      ]
    },
    {
      "cell_type": "code",
      "source": [
        "tensor.ndim"
      ],
      "metadata": {
        "colab": {
          "base_uri": "https://localhost:8080/"
        },
        "id": "tc2SulHklauU",
        "outputId": "1ad77195-9575-4b92-f2c4-5817da32067a"
      },
      "execution_count": 11,
      "outputs": [
        {
          "output_type": "execute_result",
          "data": {
            "text/plain": [
              "3"
            ]
          },
          "metadata": {},
          "execution_count": 11
        }
      ]
    },
    {
      "cell_type": "markdown",
      "source": [
        "  ### **tf.Variable()**"
      ],
      "metadata": {
        "id": "rvl0rDYz0tk5"
      }
    },
    {
      "cell_type": "markdown",
      "source": [
        "tf.Variable(  \n",
        "    initial_value=None,\n",
        "    trainable=None,\n",
        "    validate_shape=True,\n",
        "    caching_device=None,\n",
        "    name=None,\n",
        "    variable_def=None,\n",
        "    dtype=None,\n",
        "    import_scope=None,\n",
        "    constraint=None,\n",
        "    synchronization=tf.VariableSynchronization.AUTO,\n",
        "    aggregation=tf.compat.v1.VariableAggregation.NONE,\n",
        "    shape=None,\n",
        "    experimental_enable_variable_lifting=True\n",
        "  )"
      ],
      "metadata": {
        "id": "VtKQzw522Ty7"
      }
    },
    {
      "cell_type": "markdown",
      "source": [
        "### **Creating Tensors with tf.Variable**"
      ],
      "metadata": {
        "id": "uABmJkR0zAE8"
      }
    },
    {
      "cell_type": "code",
      "source": [
        " # Create the same tensor with tf.variable\n",
        "unchangable_tensor = tf.constant([10,7,4,5], shape=(2,2))\n",
        "changable_tensor = tf.Variable([10,7,12,4])\n",
        "unchangable_tensor, changable_tensor"
      ],
      "metadata": {
        "colab": {
          "base_uri": "https://localhost:8080/"
        },
        "id": "sKSWc4SwmJSw",
        "outputId": "36152518-222d-4956-9072-b5cfea1cfd27"
      },
      "execution_count": 12,
      "outputs": [
        {
          "output_type": "execute_result",
          "data": {
            "text/plain": [
              "(<tf.Tensor: shape=(2, 2), dtype=int32, numpy=\n",
              " array([[10,  7],\n",
              "        [ 4,  5]], dtype=int32)>,\n",
              " <tf.Variable 'Variable:0' shape=(4,) dtype=int32, numpy=array([10,  7, 12,  4], dtype=int32)>)"
            ]
          },
          "metadata": {},
          "execution_count": 12
        }
      ]
    },
    {
      "cell_type": "markdown",
      "source": [
        "### **Assinging values to the tensor**"
      ],
      "metadata": {
        "id": "F-oJZsZd8MPk"
      }
    },
    {
      "cell_type": "code",
      "source": [
        "# Changing Values\n",
        "changable_tensor[0].assign(7)"
      ],
      "metadata": {
        "id": "3BUE5U9sxnDN",
        "colab": {
          "base_uri": "https://localhost:8080/"
        },
        "outputId": "29ca89f4-f5e7-4bce-ff82-0eaae8b01b19"
      },
      "execution_count": 13,
      "outputs": [
        {
          "output_type": "execute_result",
          "data": {
            "text/plain": [
              "<tf.Variable 'UnreadVariable' shape=(4,) dtype=int32, numpy=array([ 7,  7, 12,  4], dtype=int32)>"
            ]
          },
          "metadata": {},
          "execution_count": 13
        }
      ]
    },
    {
      "cell_type": "markdown",
      "source": [
        "### **Creating random tensors**"
      ],
      "metadata": {
        "id": "FN4CQu0x38wV"
      }
    },
    {
      "cell_type": "markdown",
      "source": [
        "**tf.random.normal**\n",
        "\n",
        " (\n",
        "    shape,\n",
        "    mean=0.0,\n",
        "    stddev=1.0,\n",
        "    dtype=tf.dtypes.float32,\n",
        "    seed=None,\n",
        "    name=None\n",
        " )"
      ],
      "metadata": {
        "id": "4lNQK42v-i27"
      }
    },
    {
      "cell_type": "markdown",
      "source": [
        "**Normal distribution**\n",
        "\n",
        "Normal distribution, also known as the Gaussian distribution, is a probability distribution that is symmetric about the mean, showing that data near the mean are more frequent in occurrence than data far from the mean.\n",
        "\n",
        "In graphical form, the normal distribution appears as a \"bell curve\"."
      ],
      "metadata": {
        "id": "rckLIqISBgK1"
      }
    },
    {
      "cell_type": "code",
      "source": [
        "random1 = tf.random.Generator.from_seed(42)\n",
        "random1 = random1.normal(shape=(3,2))\n",
        "\n",
        "random2 = tf.random.Generator.from_seed(42)\n",
        "random2 = random2.normal(shape=(3,2))\n",
        "\n",
        "random1, random2, random1 == random2"
      ],
      "metadata": {
        "colab": {
          "base_uri": "https://localhost:8080/"
        },
        "id": "50geddLI4SYf",
        "outputId": "d23af355-4b8b-4a85-9e8e-5dc82daf7fab"
      },
      "execution_count": 14,
      "outputs": [
        {
          "output_type": "execute_result",
          "data": {
            "text/plain": [
              "(<tf.Tensor: shape=(3, 2), dtype=float32, numpy=\n",
              " array([[-0.7565803 , -0.06854702],\n",
              "        [ 0.07595026, -1.2573844 ],\n",
              "        [-0.23193763, -1.8107855 ]], dtype=float32)>,\n",
              " <tf.Tensor: shape=(3, 2), dtype=float32, numpy=\n",
              " array([[-0.7565803 , -0.06854702],\n",
              "        [ 0.07595026, -1.2573844 ],\n",
              "        [-0.23193763, -1.8107855 ]], dtype=float32)>,\n",
              " <tf.Tensor: shape=(3, 2), dtype=bool, numpy=\n",
              " array([[ True,  True],\n",
              "        [ True,  True],\n",
              "        [ True,  True]])>)"
            ]
          },
          "metadata": {},
          "execution_count": 14
        }
      ]
    },
    {
      "cell_type": "markdown",
      "source": [
        "**tf.random.uniform**\n",
        "\n",
        "(\n",
        "    shape,\n",
        "    minval=0,\n",
        "    maxval=None,\n",
        "    dtype=tf.dtypes.float32,\n",
        "    seed=None,\n",
        "    name=None\n",
        ")"
      ],
      "metadata": {
        "id": "AmI3z04aCPBG"
      }
    },
    {
      "cell_type": "markdown",
      "source": [
        "**Uniform Distribution**\n",
        "\n",
        "A uniform distribution, also called a rectangular distribution, is a probability distribution that has constant probability.\n"
      ],
      "metadata": {
        "id": "-TwnhyQq_1sh"
      }
    },
    {
      "cell_type": "code",
      "source": [
        "random3 = tf.random.Generator.from_seed(42)\n",
        "random3 = random3.uniform(shape=(3,2))\n",
        "\n",
        "random4 = tf.random.Generator.from_seed(42)\n",
        "random4 = random4.uniform(shape=(3,2))\n",
        "\n",
        "random3, random4, random3 == random4"
      ],
      "metadata": {
        "colab": {
          "base_uri": "https://localhost:8080/"
        },
        "id": "vxQd-0y9CZ4V",
        "outputId": "b1ecf97d-91dc-469c-fb79-0ba7c7b52ada"
      },
      "execution_count": 15,
      "outputs": [
        {
          "output_type": "execute_result",
          "data": {
            "text/plain": [
              "(<tf.Tensor: shape=(3, 2), dtype=float32, numpy=\n",
              " array([[0.7493447 , 0.73561966],\n",
              "        [0.45230794, 0.49039817],\n",
              "        [0.1889317 , 0.52027524]], dtype=float32)>,\n",
              " <tf.Tensor: shape=(3, 2), dtype=float32, numpy=\n",
              " array([[0.7493447 , 0.73561966],\n",
              "        [0.45230794, 0.49039817],\n",
              "        [0.1889317 , 0.52027524]], dtype=float32)>,\n",
              " <tf.Tensor: shape=(3, 2), dtype=bool, numpy=\n",
              " array([[ True,  True],\n",
              "        [ True,  True],\n",
              "        [ True,  True]])>)"
            ]
          },
          "metadata": {},
          "execution_count": 15
        }
      ]
    },
    {
      "cell_type": "markdown",
      "source": [
        "### Shuffling the tensors"
      ],
      "metadata": {
        "id": "cscqG1VrWYyV"
      }
    },
    {
      "cell_type": "code",
      "source": [
        "shuffle  = tf.constant([[1,2],\n",
        "                       [9,8],\n",
        "                       [5,0],\n",
        "                       [4,3]]) \n"
      ],
      "metadata": {
        "id": "vJZED4UAWehC"
      },
      "execution_count": 16,
      "outputs": []
    },
    {
      "cell_type": "code",
      "source": [
        "tf.random.set_seed(7)   # Global level seed\n",
        "tf.random.shuffle(shuffle)   # Operation level seed"
      ],
      "metadata": {
        "colab": {
          "base_uri": "https://localhost:8080/"
        },
        "id": "8AcnkC1NWumU",
        "outputId": "c963ec57-c355-4c2e-dec2-f489dfc467c6"
      },
      "execution_count": 17,
      "outputs": [
        {
          "output_type": "execute_result",
          "data": {
            "text/plain": [
              "<tf.Tensor: shape=(4, 2), dtype=int32, numpy=\n",
              "array([[5, 0],\n",
              "       [1, 2],\n",
              "       [4, 3],\n",
              "       [9, 8]], dtype=int32)>"
            ]
          },
          "metadata": {},
          "execution_count": 17
        }
      ]
    },
    {
      "cell_type": "markdown",
      "source": [
        "### Other ways to create tensors"
      ],
      "metadata": {
        "id": "JELhN6LaYlua"
      }
    },
    {
      "cell_type": "code",
      "source": [
        "tf.ones(10, tf.int32 )"
      ],
      "metadata": {
        "colab": {
          "base_uri": "https://localhost:8080/"
        },
        "id": "OTEMiuqZYhYU",
        "outputId": "d6e2af9b-037c-4a6e-a03b-1fd50f40cc79"
      },
      "execution_count": 18,
      "outputs": [
        {
          "output_type": "execute_result",
          "data": {
            "text/plain": [
              "<tf.Tensor: shape=(10,), dtype=int32, numpy=array([1, 1, 1, 1, 1, 1, 1, 1, 1, 1], dtype=int32)>"
            ]
          },
          "metadata": {},
          "execution_count": 18
        }
      ]
    },
    {
      "cell_type": "code",
      "source": [
        "tf.zeros(5)"
      ],
      "metadata": {
        "colab": {
          "base_uri": "https://localhost:8080/"
        },
        "id": "753W_jCDYk8r",
        "outputId": "329f779e-1ce3-4a9f-8be0-f4cf96ea8a55"
      },
      "execution_count": 19,
      "outputs": [
        {
          "output_type": "execute_result",
          "data": {
            "text/plain": [
              "<tf.Tensor: shape=(5,), dtype=float32, numpy=array([0., 0., 0., 0., 0.], dtype=float32)>"
            ]
          },
          "metadata": {},
          "execution_count": 19
        }
      ]
    },
    {
      "cell_type": "markdown",
      "source": [
        "**Creating tensors using numpy array's**"
      ],
      "metadata": {
        "id": "J9--48-0cAk6"
      }
    },
    {
      "cell_type": "code",
      "source": [
        "import numpy as np "
      ],
      "metadata": {
        "id": "hnEuly85b1oH"
      },
      "execution_count": 20,
      "outputs": []
    },
    {
      "cell_type": "code",
      "source": [
        "a = np.arange(1,25, dtype=np.int32)\n",
        "print(a)"
      ],
      "metadata": {
        "colab": {
          "base_uri": "https://localhost:8080/"
        },
        "id": "iPZlElzPcSGF",
        "outputId": "88aa0752-9a70-4c68-9bba-01497ec1137a"
      },
      "execution_count": 21,
      "outputs": [
        {
          "output_type": "stream",
          "name": "stdout",
          "text": [
            "[ 1  2  3  4  5  6  7  8  9 10 11 12 13 14 15 16 17 18 19 20 21 22 23 24]\n"
          ]
        }
      ]
    },
    {
      "cell_type": "code",
      "source": [
        "A = tf.constant(a, shape=(3,2,4), dtype=tf.int64)\n",
        "print(A)"
      ],
      "metadata": {
        "colab": {
          "base_uri": "https://localhost:8080/"
        },
        "id": "20qIhkLGcZkZ",
        "outputId": "86df4e68-9b27-40ca-d12d-b8eed6803615"
      },
      "execution_count": 22,
      "outputs": [
        {
          "output_type": "stream",
          "name": "stdout",
          "text": [
            "tf.Tensor(\n",
            "[[[ 1  2  3  4]\n",
            "  [ 5  6  7  8]]\n",
            "\n",
            " [[ 9 10 11 12]\n",
            "  [13 14 15 16]]\n",
            "\n",
            " [[17 18 19 20]\n",
            "  [21 22 23 24]]], shape=(3, 2, 4), dtype=int64)\n"
          ]
        }
      ]
    },
    {
      "cell_type": "code",
      "source": [
        "tf.Variable([1,2,3,4,5,6], dtype=tf.float32)\n",
        "# In tf.Variable, can't alter the shape "
      ],
      "metadata": {
        "colab": {
          "base_uri": "https://localhost:8080/"
        },
        "id": "jI4b8-VJctBt",
        "outputId": "1e0e59d2-cedf-452b-c8c6-41b296d5c690"
      },
      "execution_count": 23,
      "outputs": [
        {
          "output_type": "execute_result",
          "data": {
            "text/plain": [
              "<tf.Variable 'Variable:0' shape=(6,) dtype=float32, numpy=array([1., 2., 3., 4., 5., 6.], dtype=float32)>"
            ]
          },
          "metadata": {},
          "execution_count": 23
        }
      ]
    },
    {
      "cell_type": "markdown",
      "source": [
        "# Getting information from tensors\n",
        "# (dtype, shape, Rank, size)"
      ],
      "metadata": {
        "id": "a7BBZcaxmBFV"
      }
    },
    {
      "cell_type": "code",
      "source": [
        "tensor  = tf.zeros(shape=[2,3,4,5])\n",
        "print(tensor) "
      ],
      "metadata": {
        "colab": {
          "base_uri": "https://localhost:8080/"
        },
        "id": "BE7pmaEofs68",
        "outputId": "e15f74dd-1d00-4de2-c44f-1d8938440a99"
      },
      "execution_count": 24,
      "outputs": [
        {
          "output_type": "stream",
          "name": "stdout",
          "text": [
            "tf.Tensor(\n",
            "[[[[0. 0. 0. 0. 0.]\n",
            "   [0. 0. 0. 0. 0.]\n",
            "   [0. 0. 0. 0. 0.]\n",
            "   [0. 0. 0. 0. 0.]]\n",
            "\n",
            "  [[0. 0. 0. 0. 0.]\n",
            "   [0. 0. 0. 0. 0.]\n",
            "   [0. 0. 0. 0. 0.]\n",
            "   [0. 0. 0. 0. 0.]]\n",
            "\n",
            "  [[0. 0. 0. 0. 0.]\n",
            "   [0. 0. 0. 0. 0.]\n",
            "   [0. 0. 0. 0. 0.]\n",
            "   [0. 0. 0. 0. 0.]]]\n",
            "\n",
            "\n",
            " [[[0. 0. 0. 0. 0.]\n",
            "   [0. 0. 0. 0. 0.]\n",
            "   [0. 0. 0. 0. 0.]\n",
            "   [0. 0. 0. 0. 0.]]\n",
            "\n",
            "  [[0. 0. 0. 0. 0.]\n",
            "   [0. 0. 0. 0. 0.]\n",
            "   [0. 0. 0. 0. 0.]\n",
            "   [0. 0. 0. 0. 0.]]\n",
            "\n",
            "  [[0. 0. 0. 0. 0.]\n",
            "   [0. 0. 0. 0. 0.]\n",
            "   [0. 0. 0. 0. 0.]\n",
            "   [0. 0. 0. 0. 0.]]]], shape=(2, 3, 4, 5), dtype=float32)\n"
          ]
        }
      ]
    },
    {
      "cell_type": "code",
      "source": [
        "print(\" Data type: \", tensor.dtype)\n",
        "print(\" Shape: \", tensor.shape)\n",
        "print(\" Rank: \", tensor.ndim)\n",
        "print(\" Size: \", tf.size(tensor)) \n",
        "print(\" Size(Numpy): \", tf.size(tensor).numpy())"
      ],
      "metadata": {
        "colab": {
          "base_uri": "https://localhost:8080/"
        },
        "id": "uzRM9F8-kQ_E",
        "outputId": "0c04e89b-998b-4db3-fb61-0be80b6d670b"
      },
      "execution_count": 25,
      "outputs": [
        {
          "output_type": "stream",
          "name": "stdout",
          "text": [
            " Data type:  <dtype: 'float32'>\n",
            " Shape:  (2, 3, 4, 5)\n",
            " Rank:  4\n",
            " Size:  tf.Tensor(120, shape=(), dtype=int32)\n",
            " Size(Numpy):  120\n"
          ]
        }
      ]
    },
    {
      "cell_type": "markdown",
      "source": [
        "# Indexing tensors"
      ],
      "metadata": {
        "id": "SqSEENnX7yQr"
      }
    },
    {
      "cell_type": "markdown",
      "source": [
        "Tensors can be indexed like python lists"
      ],
      "metadata": {
        "id": "wBp3jLzi8ApF"
      }
    },
    {
      "cell_type": "code",
      "source": [
        "# Indexing\n",
        "print(tensor[0][2][3][2])"
      ],
      "metadata": {
        "id": "sHGCN8FvkvE8",
        "colab": {
          "base_uri": "https://localhost:8080/"
        },
        "outputId": "71fab400-cf07-4c91-b214-a797f2aba1fd"
      },
      "execution_count": 26,
      "outputs": [
        {
          "output_type": "stream",
          "name": "stdout",
          "text": [
            "tf.Tensor(0.0, shape=(), dtype=float32)\n"
          ]
        }
      ]
    },
    {
      "cell_type": "code",
      "source": [
        "# Get first 2 elements of each dimension\n",
        "print(tensor[:2, :1, :2, :2])"
      ],
      "metadata": {
        "colab": {
          "base_uri": "https://localhost:8080/"
        },
        "id": "ZbH7EpBv76o4",
        "outputId": "a7621702-dbd4-48a6-eee5-3f789a80fba0"
      },
      "execution_count": 27,
      "outputs": [
        {
          "output_type": "stream",
          "name": "stdout",
          "text": [
            "tf.Tensor(\n",
            "[[[[0. 0.]\n",
            "   [0. 0.]]]\n",
            "\n",
            "\n",
            " [[[0. 0.]\n",
            "   [0. 0.]]]], shape=(2, 1, 2, 2), dtype=float32)\n"
          ]
        }
      ]
    },
    {
      "cell_type": "code",
      "source": [
        "# Get the first element from each dimension from each index except for the final one\n",
        "print(tensor[:1, :1, :1])"
      ],
      "metadata": {
        "colab": {
          "base_uri": "https://localhost:8080/"
        },
        "id": "wxEvau4X8iAw",
        "outputId": "a0ccaf6f-aadb-412d-e41c-2fa0b1526773"
      },
      "execution_count": 28,
      "outputs": [
        {
          "output_type": "stream",
          "name": "stdout",
          "text": [
            "tf.Tensor([[[[0. 0. 0. 0. 0.]]]], shape=(1, 1, 1, 5), dtype=float32)\n"
          ]
        }
      ]
    },
    {
      "cell_type": "code",
      "source": [
        "# create a rank 2 tensor\n",
        "ten2 = tf.Variable([[1,2],\n",
        "                   [3,4]], dtype=tf.int32)\n",
        "print(ten2)"
      ],
      "metadata": {
        "colab": {
          "base_uri": "https://localhost:8080/"
        },
        "id": "Z1FwM-Uf9K22",
        "outputId": "86070f1e-01e5-4fed-a60b-5d45fbf2fdbb"
      },
      "execution_count": 29,
      "outputs": [
        {
          "output_type": "stream",
          "name": "stdout",
          "text": [
            "<tf.Variable 'Variable:0' shape=(2, 2) dtype=int32, numpy=\n",
            "array([[1, 2],\n",
            "       [3, 4]], dtype=int32)>\n"
          ]
        }
      ]
    },
    {
      "cell_type": "code",
      "source": [
        "#Get last item\n",
        "print(ten2[:,-1])"
      ],
      "metadata": {
        "colab": {
          "base_uri": "https://localhost:8080/"
        },
        "id": "yO2k1FKX-Kv2",
        "outputId": "33cc1004-074d-42d4-8235-6d87d4acb035"
      },
      "execution_count": 30,
      "outputs": [
        {
          "output_type": "stream",
          "name": "stdout",
          "text": [
            "tf.Tensor([2 4], shape=(2,), dtype=int32)\n"
          ]
        }
      ]
    },
    {
      "cell_type": "markdown",
      "source": [
        "# Expanding dimensions in a tensor\n"
      ],
      "metadata": {
        "id": "Al-qGLCYAu0I"
      }
    },
    {
      "cell_type": "markdown",
      "source": [
        "**tf.newaxis**"
      ],
      "metadata": {
        "id": "MqtoTW-_DXMJ"
      }
    },
    {
      "cell_type": "code",
      "source": [
        "# Add in an extra dimension to our rank to dimension\n",
        "ten3 = ten2[..., tf.newaxis]\n",
        "print(ten3)"
      ],
      "metadata": {
        "colab": {
          "base_uri": "https://localhost:8080/"
        },
        "id": "Fm0QN1qI-2PL",
        "outputId": "8b892ebf-c30f-498d-8251-85d9359bab5d"
      },
      "execution_count": 31,
      "outputs": [
        {
          "output_type": "stream",
          "name": "stdout",
          "text": [
            "tf.Tensor(\n",
            "[[[1]\n",
            "  [2]]\n",
            "\n",
            " [[3]\n",
            "  [4]]], shape=(2, 2, 1), dtype=int32)\n"
          ]
        }
      ]
    },
    {
      "cell_type": "markdown",
      "source": [
        "**tf.expand_dims()**"
      ],
      "metadata": {
        "id": "ZFD0wBgxDhkt"
      }
    },
    {
      "cell_type": "markdown",
      "source": [
        "tf.expand_dims(\n",
        "    input, axis, name=None\n",
        ")"
      ],
      "metadata": {
        "id": "F7_tijyfDqBp"
      }
    },
    {
      "cell_type": "code",
      "source": [
        "#tf.expand_dims(ten3, axis=-1)  # Adding an axis at last\n",
        "\n",
        "tf.expand_dims(ten3, axis=1)  # Adding an axis at index 0"
      ],
      "metadata": {
        "colab": {
          "base_uri": "https://localhost:8080/"
        },
        "id": "ORQJTEDSBX3j",
        "outputId": "ba998ce2-fa10-4558-8197-62bd4100fb46"
      },
      "execution_count": 32,
      "outputs": [
        {
          "output_type": "execute_result",
          "data": {
            "text/plain": [
              "<tf.Tensor: shape=(2, 1, 2, 1), dtype=int32, numpy=\n",
              "array([[[[1],\n",
              "         [2]]],\n",
              "\n",
              "\n",
              "       [[[3],\n",
              "         [4]]]], dtype=int32)>"
            ]
          },
          "metadata": {},
          "execution_count": 32
        }
      ]
    },
    {
      "cell_type": "code",
      "source": [
        "tf.squeeze(ten3)"
      ],
      "metadata": {
        "colab": {
          "base_uri": "https://localhost:8080/"
        },
        "id": "RjYGHN7_D7_G",
        "outputId": "16e92b7c-fa32-45b6-a0d2-0d3f00f7d539"
      },
      "execution_count": 33,
      "outputs": [
        {
          "output_type": "execute_result",
          "data": {
            "text/plain": [
              "<tf.Tensor: shape=(2, 2), dtype=int32, numpy=\n",
              "array([[1, 2],\n",
              "       [3, 4]], dtype=int32)>"
            ]
          },
          "metadata": {},
          "execution_count": 33
        }
      ]
    },
    {
      "cell_type": "markdown",
      "source": [
        "# Manipulating tensors (tensor operations)"
      ],
      "metadata": {
        "id": "_wgM3GlLExSy"
      }
    },
    {
      "cell_type": "markdown",
      "source": [
        "**Basic Operations**\n",
        "\n",
        "--- Addition\n",
        "\n",
        "--- Subtraction \n",
        "\n",
        "--- Multiplication\n",
        "\n",
        "--- Division\n",
        "\n",
        "\n",
        "\n",
        "\n",
        "\n"
      ],
      "metadata": {
        "id": "Ji0HErhGFLCY"
      }
    },
    {
      "cell_type": "code",
      "source": [
        "# Addition\n",
        "ten_add = tf.Variable([[10,7],\n",
        "                      [4,3]])\n",
        "print(ten_add + 10)\n",
        "print()\n",
        "print(ten_add) # Original tensor is unchanged\n",
        "\n",
        "print(tf.math.add(ten_add, 10))"
      ],
      "metadata": {
        "colab": {
          "base_uri": "https://localhost:8080/"
        },
        "id": "uhGhrJkRE9vZ",
        "outputId": "16f0d7b0-7cc4-402b-9a39-a5aa9dfece3f"
      },
      "execution_count": 34,
      "outputs": [
        {
          "output_type": "stream",
          "name": "stdout",
          "text": [
            "tf.Tensor(\n",
            "[[20 17]\n",
            " [14 13]], shape=(2, 2), dtype=int32)\n",
            "\n",
            "<tf.Variable 'Variable:0' shape=(2, 2) dtype=int32, numpy=\n",
            "array([[10,  7],\n",
            "       [ 4,  3]], dtype=int32)>\n",
            "tf.Tensor(\n",
            "[[20 17]\n",
            " [14 13]], shape=(2, 2), dtype=int32)\n"
          ]
        }
      ]
    },
    {
      "cell_type": "code",
      "source": [
        "# Subtraction\n",
        "ten_sub = tf.Variable([[10,7],\n",
        "                      [4,3]])\n",
        "print(ten_sub - 10)\n",
        "print()\n",
        "print(ten_sub) # Original tensor is unchanged\n",
        "print(tf.math.subtract(ten_sub, 2))"
      ],
      "metadata": {
        "colab": {
          "base_uri": "https://localhost:8080/"
        },
        "id": "phRODQd-F2Tl",
        "outputId": "cfd1ad5c-8f1b-44a9-c02b-fde461d45e1e"
      },
      "execution_count": 35,
      "outputs": [
        {
          "output_type": "stream",
          "name": "stdout",
          "text": [
            "tf.Tensor(\n",
            "[[ 0 -3]\n",
            " [-6 -7]], shape=(2, 2), dtype=int32)\n",
            "\n",
            "<tf.Variable 'Variable:0' shape=(2, 2) dtype=int32, numpy=\n",
            "array([[10,  7],\n",
            "       [ 4,  3]], dtype=int32)>\n",
            "tf.Tensor(\n",
            "[[8 5]\n",
            " [2 1]], shape=(2, 2), dtype=int32)\n"
          ]
        }
      ]
    },
    {
      "cell_type": "code",
      "source": [
        "# Multiplication\n",
        "ten_m  = tf.Variable([[10,7],\n",
        "                      [4,3]])\n",
        "print(ten_m*3)\n",
        "print()\n",
        "print(tf.math.multiply(ten_m, 12))"
      ],
      "metadata": {
        "colab": {
          "base_uri": "https://localhost:8080/"
        },
        "id": "OXH71cz2HWS9",
        "outputId": "071fd93b-9c70-4d29-89fa-877266eb5890"
      },
      "execution_count": 36,
      "outputs": [
        {
          "output_type": "stream",
          "name": "stdout",
          "text": [
            "tf.Tensor(\n",
            "[[30 21]\n",
            " [12  9]], shape=(2, 2), dtype=int32)\n",
            "\n",
            "tf.Tensor(\n",
            "[[120  84]\n",
            " [ 48  36]], shape=(2, 2), dtype=int32)\n"
          ]
        }
      ]
    },
    {
      "cell_type": "code",
      "source": [
        "# Division\n",
        "ten_div = tf.Variable([[10,7],\n",
        "                      [4,3]])\n",
        "print(ten_div/2)\n",
        "print(tf.math.divide(ten_div, 3))"
      ],
      "metadata": {
        "colab": {
          "base_uri": "https://localhost:8080/"
        },
        "id": "ArP0IbcrHAEj",
        "outputId": "2a7e10a6-4e85-40ea-c55e-93a1eb2bcc4e"
      },
      "execution_count": 37,
      "outputs": [
        {
          "output_type": "stream",
          "name": "stdout",
          "text": [
            "tf.Tensor(\n",
            "[[5.  3.5]\n",
            " [2.  1.5]], shape=(2, 2), dtype=float64)\n",
            "tf.Tensor(\n",
            "[[3.33333333 2.33333333]\n",
            " [1.33333333 1.        ]], shape=(2, 2), dtype=float64)\n"
          ]
        }
      ]
    },
    {
      "cell_type": "markdown",
      "source": [
        "## Matrix Multiplication"
      ],
      "metadata": {
        "id": "mh242szpQdns"
      }
    },
    {
      "cell_type": "markdown",
      "source": [
        "\n",
        "--- tf.linalg.matmul()\n",
        "\n",
        "--- U @ V \n",
        "\n",
        "--- U * V (Element-wise multiplication)\n",
        "\n",
        "--- tf.tensordot()\n",
        "\n",
        "\n",
        "\n",
        "\n",
        "\n",
        "\n",
        "\n"
      ],
      "metadata": {
        "id": "6OHiwoGYimH5"
      }
    },
    {
      "cell_type": "code",
      "source": [
        "# Matrix Multiplication in tensorflow\n",
        "X = tf.constant([[1,2,6],\n",
        "                 [10,1,7],\n",
        "                 [2,3,4]])\n",
        "Y = tf.constant([[2,5],\n",
        "                 [6,7],\n",
        "                 [1,8]])\n",
        "print(tf.linalg.matmul(a=X, b=Y))"
      ],
      "metadata": {
        "colab": {
          "base_uri": "https://localhost:8080/"
        },
        "id": "N-Uek3FtHSoZ",
        "outputId": "026289b5-320b-4fb2-ff59-7e7e83f8d8fe"
      },
      "execution_count": 38,
      "outputs": [
        {
          "output_type": "stream",
          "name": "stdout",
          "text": [
            "tf.Tensor(\n",
            "[[ 20  67]\n",
            " [ 33 113]\n",
            " [ 26  63]], shape=(3, 2), dtype=int32)\n"
          ]
        }
      ]
    },
    {
      "cell_type": "code",
      "source": [
        "# Matrix multiplication in python with @\n",
        "print(X @ Y)"
      ],
      "metadata": {
        "id": "IJO9YjheUDBl",
        "outputId": "fcfbb0e4-a2c3-4984-b633-35ba9954829a",
        "colab": {
          "base_uri": "https://localhost:8080/"
        }
      },
      "execution_count": 61,
      "outputs": [
        {
          "output_type": "stream",
          "name": "stdout",
          "text": [
            "tf.Tensor(\n",
            "[[ 20  67]\n",
            " [ 33 113]\n",
            " [ 26  63]], shape=(3, 2), dtype=int32)\n"
          ]
        }
      ]
    },
    {
      "cell_type": "code",
      "source": [
        "# Element wise multiplication\n",
        "# print(X * Y)"
      ],
      "metadata": {
        "id": "yWIiHrvMUVrL"
      },
      "execution_count": 40,
      "outputs": []
    },
    {
      "cell_type": "code",
      "source": [
        "# Matrix Multiplication with same shape\n",
        "U = tf.constant([[1,2],\n",
        "                  [3,4],\n",
        "                  [5,6]])\n",
        "V = tf.constant([[7,8],\n",
        "                 [9,10],\n",
        "                 [11,12]])\n"
      ],
      "metadata": {
        "id": "vp7L_zIqUfLg"
      },
      "execution_count": 69,
      "outputs": []
    },
    {
      "cell_type": "code",
      "source": [
        "print(tf.linalg.matmul(U,V))"
      ],
      "metadata": {
        "id": "2bGhE8fDjn9U",
        "outputId": "ad46d4b9-9c0e-436c-a4c4-69725ff61cef",
        "colab": {
          "base_uri": "https://localhost:8080/",
          "height": 311
        }
      },
      "execution_count": 64,
      "outputs": [
        {
          "output_type": "error",
          "ename": "InvalidArgumentError",
          "evalue": "ignored",
          "traceback": [
            "\u001b[0;31m---------------------------------------------------------------------------\u001b[0m",
            "\u001b[0;31mInvalidArgumentError\u001b[0m                      Traceback (most recent call last)",
            "\u001b[0;32m<ipython-input-64-7def88a29c66>\u001b[0m in \u001b[0;36m<module>\u001b[0;34m\u001b[0m\n\u001b[0;32m----> 1\u001b[0;31m \u001b[0mprint\u001b[0m\u001b[0;34m(\u001b[0m\u001b[0mtf\u001b[0m\u001b[0;34m.\u001b[0m\u001b[0mlinalg\u001b[0m\u001b[0;34m.\u001b[0m\u001b[0mmatmul\u001b[0m\u001b[0;34m(\u001b[0m\u001b[0mU\u001b[0m\u001b[0;34m,\u001b[0m\u001b[0mV\u001b[0m\u001b[0;34m)\u001b[0m\u001b[0;34m)\u001b[0m\u001b[0;34m\u001b[0m\u001b[0;34m\u001b[0m\u001b[0m\n\u001b[0m",
            "\u001b[0;32m/usr/local/lib/python3.8/dist-packages/tensorflow/python/util/traceback_utils.py\u001b[0m in \u001b[0;36merror_handler\u001b[0;34m(*args, **kwargs)\u001b[0m\n\u001b[1;32m    151\u001b[0m     \u001b[0;32mexcept\u001b[0m \u001b[0mException\u001b[0m \u001b[0;32mas\u001b[0m \u001b[0me\u001b[0m\u001b[0;34m:\u001b[0m\u001b[0;34m\u001b[0m\u001b[0;34m\u001b[0m\u001b[0m\n\u001b[1;32m    152\u001b[0m       \u001b[0mfiltered_tb\u001b[0m \u001b[0;34m=\u001b[0m \u001b[0m_process_traceback_frames\u001b[0m\u001b[0;34m(\u001b[0m\u001b[0me\u001b[0m\u001b[0;34m.\u001b[0m\u001b[0m__traceback__\u001b[0m\u001b[0;34m)\u001b[0m\u001b[0;34m\u001b[0m\u001b[0;34m\u001b[0m\u001b[0m\n\u001b[0;32m--> 153\u001b[0;31m       \u001b[0;32mraise\u001b[0m \u001b[0me\u001b[0m\u001b[0;34m.\u001b[0m\u001b[0mwith_traceback\u001b[0m\u001b[0;34m(\u001b[0m\u001b[0mfiltered_tb\u001b[0m\u001b[0;34m)\u001b[0m \u001b[0;32mfrom\u001b[0m \u001b[0;32mNone\u001b[0m\u001b[0;34m\u001b[0m\u001b[0;34m\u001b[0m\u001b[0m\n\u001b[0m\u001b[1;32m    154\u001b[0m     \u001b[0;32mfinally\u001b[0m\u001b[0;34m:\u001b[0m\u001b[0;34m\u001b[0m\u001b[0;34m\u001b[0m\u001b[0m\n\u001b[1;32m    155\u001b[0m       \u001b[0;32mdel\u001b[0m \u001b[0mfiltered_tb\u001b[0m\u001b[0;34m\u001b[0m\u001b[0;34m\u001b[0m\u001b[0m\n",
            "\u001b[0;32m/usr/local/lib/python3.8/dist-packages/tensorflow/python/framework/ops.py\u001b[0m in \u001b[0;36mraise_from_not_ok_status\u001b[0;34m(e, name)\u001b[0m\n\u001b[1;32m   7162\u001b[0m \u001b[0;32mdef\u001b[0m \u001b[0mraise_from_not_ok_status\u001b[0m\u001b[0;34m(\u001b[0m\u001b[0me\u001b[0m\u001b[0;34m,\u001b[0m \u001b[0mname\u001b[0m\u001b[0;34m)\u001b[0m\u001b[0;34m:\u001b[0m\u001b[0;34m\u001b[0m\u001b[0;34m\u001b[0m\u001b[0m\n\u001b[1;32m   7163\u001b[0m   \u001b[0me\u001b[0m\u001b[0;34m.\u001b[0m\u001b[0mmessage\u001b[0m \u001b[0;34m+=\u001b[0m \u001b[0;34m(\u001b[0m\u001b[0;34m\" name: \"\u001b[0m \u001b[0;34m+\u001b[0m \u001b[0mname\u001b[0m \u001b[0;32mif\u001b[0m \u001b[0mname\u001b[0m \u001b[0;32mis\u001b[0m \u001b[0;32mnot\u001b[0m \u001b[0;32mNone\u001b[0m \u001b[0;32melse\u001b[0m \u001b[0;34m\"\"\u001b[0m\u001b[0;34m)\u001b[0m\u001b[0;34m\u001b[0m\u001b[0;34m\u001b[0m\u001b[0m\n\u001b[0;32m-> 7164\u001b[0;31m   \u001b[0;32mraise\u001b[0m \u001b[0mcore\u001b[0m\u001b[0;34m.\u001b[0m\u001b[0m_status_to_exception\u001b[0m\u001b[0;34m(\u001b[0m\u001b[0me\u001b[0m\u001b[0;34m)\u001b[0m \u001b[0;32mfrom\u001b[0m \u001b[0;32mNone\u001b[0m  \u001b[0;31m# pylint: disable=protected-access\u001b[0m\u001b[0;34m\u001b[0m\u001b[0;34m\u001b[0m\u001b[0m\n\u001b[0m\u001b[1;32m   7165\u001b[0m \u001b[0;34m\u001b[0m\u001b[0m\n\u001b[1;32m   7166\u001b[0m \u001b[0;34m\u001b[0m\u001b[0m\n",
            "\u001b[0;31mInvalidArgumentError\u001b[0m: Matrix size-incompatible: In[0]: [3,2], In[1]: [3,2] [Op:MatMul]"
          ]
        }
      ]
    },
    {
      "cell_type": "markdown",
      "source": [
        "**tf.reshape(\n",
        "      tensor, shape, name=None\n",
        "  )**  "
      ],
      "metadata": {
        "id": "SlxC34KccQjB"
      }
    },
    {
      "cell_type": "markdown",
      "source": [
        "tf.reshape() flattens the tensor object and then rearranges according to the shape passed."
      ],
      "metadata": {
        "id": "VKMGFe--k3mP"
      }
    },
    {
      "cell_type": "code",
      "source": [
        "# Analysing the above issue\n",
        "print(\" Matrix Multiplication using tf.reshape()\")\n",
        "print(tf.linalg.matmul(tf.reshape(U, (2,3)),V))\n",
        "print()\n",
        "print(\" Reshaped tensor U \")\n",
        "print(tf.reshape(U, (2,3)))"
      ],
      "metadata": {
        "id": "CAdcj9_aZv9a",
        "outputId": "0ec5e2b0-ebfc-4c97-8842-5f69d9aac034",
        "colab": {
          "base_uri": "https://localhost:8080/"
        }
      },
      "execution_count": 72,
      "outputs": [
        {
          "output_type": "stream",
          "name": "stdout",
          "text": [
            " Matrix Multiplication using tf.reshape()\n",
            "tf.Tensor(\n",
            "[[ 58  64]\n",
            " [139 154]], shape=(2, 2), dtype=int32)\n",
            "\n",
            " Reshaped tensor U \n",
            "tf.Tensor(\n",
            "[[1 2 3]\n",
            " [4 5 6]], shape=(2, 3), dtype=int32)\n"
          ]
        }
      ]
    },
    {
      "cell_type": "markdown",
      "source": [
        "**tf.transpose(\n",
        "    a, perm=None, conjugate=False, name='transpose'\n",
        ")**"
      ],
      "metadata": {
        "id": "GwnGYWhUeNan"
      }
    },
    {
      "cell_type": "markdown",
      "source": [
        "tf.transpose() simply interchanges the dimensions "
      ],
      "metadata": {
        "id": "6uhI56rflLm_"
      }
    },
    {
      "cell_type": "code",
      "source": [
        "print(\" Matrix multiplication using tf.transpose() \")\n",
        "print(tf.linalg.matmul(tf.transpose(U),V))\n",
        "print()\n",
        "print(\" Transposed Matrix U\")\n",
        "print(tf.transpose(U))\n"
      ],
      "metadata": {
        "id": "6lv0IuBgaGmI",
        "outputId": "b5a2307a-c0f4-41cb-a519-b55623c3ca00",
        "colab": {
          "base_uri": "https://localhost:8080/"
        }
      },
      "execution_count": 74,
      "outputs": [
        {
          "output_type": "stream",
          "name": "stdout",
          "text": [
            " Matrix multiplication using tf.transpose() \n",
            "tf.Tensor(\n",
            "[[ 89  98]\n",
            " [116 128]], shape=(2, 2), dtype=int32)\n",
            "\n",
            " Transposed Matrix U\n",
            "tf.Tensor(\n",
            "[[1 3 5]\n",
            " [2 4 6]], shape=(2, 3), dtype=int32)\n"
          ]
        }
      ]
    },
    {
      "cell_type": "code",
      "source": [],
      "metadata": {
        "id": "X_HJfa-fbAW8"
      },
      "execution_count": 54,
      "outputs": []
    },
    {
      "cell_type": "code",
      "source": [],
      "metadata": {
        "id": "5ppOKX5KbS6c"
      },
      "execution_count": null,
      "outputs": []
    }
  ]
}