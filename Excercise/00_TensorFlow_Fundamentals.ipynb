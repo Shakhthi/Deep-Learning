{
  "nbformat": 4,
  "nbformat_minor": 0,
  "metadata": {
    "colab": {
      "provenance": [],
      "toc_visible": true,
      "authorship_tag": "ABX9TyP3Cof49Cfp/0Ug+QHrIVpx",
      "include_colab_link": true
    },
    "kernelspec": {
      "name": "python3",
      "display_name": "Python 3"
    },
    "language_info": {
      "name": "python"
    }
  },
  "cells": [
    {
      "cell_type": "markdown",
      "metadata": {
        "id": "view-in-github",
        "colab_type": "text"
      },
      "source": [
        "<a href=\"https://colab.research.google.com/github/Shakhthi/Deep-Learning/blob/Excercise/Excercise/00_TensorFlow_Fundamentals.ipynb\" target=\"_parent\"><img src=\"https://colab.research.google.com/assets/colab-badge.svg\" alt=\"Open In Colab\"/></a>"
      ]
    },
    {
      "cell_type": "markdown",
      "source": [
        "# **Intro to Tensors**"
      ],
      "metadata": {
        "id": "Sknk71x_e3uk"
      }
    },
    {
      "cell_type": "code",
      "source": [
        "# Import TensorFlow \n",
        "import tensorflow as tf "
      ],
      "metadata": {
        "id": "jtni-o0UgW4I"
      },
      "execution_count": 1,
      "outputs": []
    },
    {
      "cell_type": "code",
      "source": [
        "# Version Checkup\n",
        "tf.__version__"
      ],
      "metadata": {
        "colab": {
          "base_uri": "https://localhost:8080/",
          "height": 35
        },
        "id": "Sd9ZyfKSg_sX",
        "outputId": "c373354b-8c76-47aa-d19b-1947585e98a2"
      },
      "execution_count": 2,
      "outputs": [
        {
          "output_type": "execute_result",
          "data": {
            "text/plain": [
              "'2.9.2'"
            ],
            "application/vnd.google.colaboratory.intrinsic+json": {
              "type": "string"
            }
          },
          "metadata": {},
          "execution_count": 2
        }
      ]
    },
    {
      "cell_type": "markdown",
      "source": [
        "### **tf.constant()**"
      ],
      "metadata": {
        "id": "GTVnjKuPuC0v"
      }
    },
    {
      "cell_type": "markdown",
      "source": [
        "Creates a constant tensor.\n",
        "\n",
        "The resulting tensor is populated with values of type dtype, as specified by arguments value and (optionally) shape (see examples below).\n",
        "\n",
        "The argument value can be a constant value, or a list of values of type dtype. If value is a list, then the length of the list must be less than or equal to the number of elements implied by the shape argument (if specified). In the case where the list length is less than the number of elements specified by shape, the last element in the list will be used to fill the remaining entries.\n",
        "\n",
        "The argument shape is optional. If present, it specifies the dimensions of the resulting tensor. If not present, the shape of value is used.\n",
        "\n",
        "If the argument dtype is not specified, then the type is inferred from the type of value."
      ],
      "metadata": {
        "id": "aZFtOgPvtofw"
      }
    },
    {
      "cell_type": "markdown",
      "source": [
        "**Args**:\n",
        "\n",
        "value: A constant value (or list) of output type dtype.\n",
        "\n",
        "dtype: The type of the elements of the resulting tensor.\n",
        "\n",
        "shape: Optional dimensions of resulting tensor.\n",
        "\n",
        "name: Optional name for the tensor.\n",
        "\n",
        "verify_shape: Boolean that enables verification of a shape of values.\n",
        "\n",
        "**Returns:**\n",
        "A Constant Tensor.\n",
        "\n",
        "**Raises:**\n",
        "TypeError: if shape is incorrectly specified or unsupported."
      ],
      "metadata": {
        "id": "3W-ar0jLuSsm"
      }
    },
    {
      "cell_type": "code",
      "source": [
        "# Create a Tensor with tf.constent()\n",
        "scalar = tf.constant(4)\n",
        "print(scalar)"
      ],
      "metadata": {
        "colab": {
          "base_uri": "https://localhost:8080/"
        },
        "id": "0ZKa9JIXhSXr",
        "outputId": "8a711531-a17f-4136-9e20-2b2b57975d5f"
      },
      "execution_count": 3,
      "outputs": [
        {
          "output_type": "stream",
          "name": "stdout",
          "text": [
            "tf.Tensor(4, shape=(), dtype=int32)\n"
          ]
        }
      ]
    },
    {
      "cell_type": "code",
      "source": [
        "# Check the number of dimensions\n",
        "scalar.ndim"
      ],
      "metadata": {
        "colab": {
          "base_uri": "https://localhost:8080/"
        },
        "id": "STUYh-pRhngC",
        "outputId": "1ae0d834-bc10-441f-a772-1ab77b65d47f"
      },
      "execution_count": 4,
      "outputs": [
        {
          "output_type": "execute_result",
          "data": {
            "text/plain": [
              "0"
            ]
          },
          "metadata": {},
          "execution_count": 4
        }
      ]
    },
    {
      "cell_type": "code",
      "source": [
        " # Create a vector with tf.constant()\n",
        "vector = tf.constant([10,10])\n",
        "print(vector) "
      ],
      "metadata": {
        "colab": {
          "base_uri": "https://localhost:8080/"
        },
        "id": "4NYK5YV5hyJf",
        "outputId": "672bf6ef-ba1b-4a42-9d86-fb33bc50d6a0"
      },
      "execution_count": 5,
      "outputs": [
        {
          "output_type": "stream",
          "name": "stdout",
          "text": [
            "tf.Tensor([10 10], shape=(2,), dtype=int32)\n"
          ]
        }
      ]
    },
    {
      "cell_type": "code",
      "source": [
        "vector.ndim "
      ],
      "metadata": {
        "colab": {
          "base_uri": "https://localhost:8080/"
        },
        "id": "8GwQWpsdi97b",
        "outputId": "e7bf949d-fbcb-4a34-f299-e8e5a5f3e7c4"
      },
      "execution_count": 6,
      "outputs": [
        {
          "output_type": "execute_result",
          "data": {
            "text/plain": [
              "1"
            ]
          },
          "metadata": {},
          "execution_count": 6
        }
      ]
    },
    {
      "cell_type": "code",
      "source": [
        "# Create a matrix\n",
        "matrix = tf.constant([[10,7],\n",
        "                      [7,10]])\n",
        "print(matrix)"
      ],
      "metadata": {
        "colab": {
          "base_uri": "https://localhost:8080/"
        },
        "id": "SEVmu3BxiWc0",
        "outputId": "fab9a2cd-7a99-4b0e-c398-e84928fa27e0"
      },
      "execution_count": 7,
      "outputs": [
        {
          "output_type": "stream",
          "name": "stdout",
          "text": [
            "tf.Tensor(\n",
            "[[10  7]\n",
            " [ 7 10]], shape=(2, 2), dtype=int32)\n"
          ]
        }
      ]
    },
    {
      "cell_type": "code",
      "source": [
        "float_matrix = tf.constant([[10., 7.],\n",
        "                           [3.,2.],\n",
        "                           [8.,9.]], dtype=tf.float16)  # Specify the data type with dtype\n",
        "print(float_matrix)                           "
      ],
      "metadata": {
        "colab": {
          "base_uri": "https://localhost:8080/"
        },
        "id": "FUZ3pQyVi07u",
        "outputId": "ef796106-91cd-4a75-c6e0-623a6dd3ed7d"
      },
      "execution_count": 8,
      "outputs": [
        {
          "output_type": "stream",
          "name": "stdout",
          "text": [
            "tf.Tensor(\n",
            "[[10.  7.]\n",
            " [ 3.  2.]\n",
            " [ 8.  9.]], shape=(3, 2), dtype=float16)\n"
          ]
        }
      ]
    },
    {
      "cell_type": "code",
      "source": [
        "float_matrix.ndim"
      ],
      "metadata": {
        "colab": {
          "base_uri": "https://localhost:8080/"
        },
        "id": "0_n6O9hIj0Fm",
        "outputId": "aeffcf03-2513-49a1-f26f-95dcc41a8236"
      },
      "execution_count": 9,
      "outputs": [
        {
          "output_type": "execute_result",
          "data": {
            "text/plain": [
              "2"
            ]
          },
          "metadata": {},
          "execution_count": 9
        }
      ]
    },
    {
      "cell_type": "code",
      "source": [
        " #  Let's create a Tensor\n",
        "tensor = tf.constant([[[1,2,3],\n",
        "                       [4,5,6]],\n",
        "                      [[7,8,9],\n",
        "                       [10,11,12]],\n",
        "                      [[13,14,15],\n",
        "                       [16,17,18]]])\n",
        "print(tensor)"
      ],
      "metadata": {
        "colab": {
          "base_uri": "https://localhost:8080/"
        },
        "id": "YRJNKFG1j_aP",
        "outputId": "4f466d75-f89a-4071-bcde-c753df338ec8"
      },
      "execution_count": 10,
      "outputs": [
        {
          "output_type": "stream",
          "name": "stdout",
          "text": [
            "tf.Tensor(\n",
            "[[[ 1  2  3]\n",
            "  [ 4  5  6]]\n",
            "\n",
            " [[ 7  8  9]\n",
            "  [10 11 12]]\n",
            "\n",
            " [[13 14 15]\n",
            "  [16 17 18]]], shape=(3, 2, 3), dtype=int32)\n"
          ]
        }
      ]
    },
    {
      "cell_type": "code",
      "source": [
        "tensor.ndim"
      ],
      "metadata": {
        "colab": {
          "base_uri": "https://localhost:8080/"
        },
        "id": "tc2SulHklauU",
        "outputId": "444991f8-8a93-4377-b92a-2003d8239b9e"
      },
      "execution_count": 11,
      "outputs": [
        {
          "output_type": "execute_result",
          "data": {
            "text/plain": [
              "3"
            ]
          },
          "metadata": {},
          "execution_count": 11
        }
      ]
    },
    {
      "cell_type": "markdown",
      "source": [
        "  ### **tf.Variable()**"
      ],
      "metadata": {
        "id": "rvl0rDYz0tk5"
      }
    },
    {
      "cell_type": "markdown",
      "source": [
        "tf.Variable(  \n",
        "    initial_value=None,\n",
        "    trainable=None,\n",
        "    validate_shape=True,\n",
        "    caching_device=None,\n",
        "    name=None,\n",
        "    variable_def=None,\n",
        "    dtype=None,\n",
        "    import_scope=None,\n",
        "    constraint=None,\n",
        "    synchronization=tf.VariableSynchronization.AUTO,\n",
        "    aggregation=tf.compat.v1.VariableAggregation.NONE,\n",
        "    shape=None,\n",
        "    experimental_enable_variable_lifting=True\n",
        "  )"
      ],
      "metadata": {
        "id": "VtKQzw522Ty7"
      }
    },
    {
      "cell_type": "markdown",
      "source": [
        "### **Creating Tensors with tf.Variable**"
      ],
      "metadata": {
        "id": "uABmJkR0zAE8"
      }
    },
    {
      "cell_type": "code",
      "source": [
        " # Create the same tensor with tf.variable\n",
        "unchangable_tensor = tf.constant([10,7,4,5], shape=(2,2))\n",
        "changable_tensor = tf.Variable([10,7,12,4])\n",
        "unchangable_tensor, changable_tensor"
      ],
      "metadata": {
        "colab": {
          "base_uri": "https://localhost:8080/"
        },
        "id": "sKSWc4SwmJSw",
        "outputId": "3dbd4d1d-5804-4205-8e1d-e89a36111bc6"
      },
      "execution_count": 12,
      "outputs": [
        {
          "output_type": "execute_result",
          "data": {
            "text/plain": [
              "(<tf.Tensor: shape=(2, 2), dtype=int32, numpy=\n",
              " array([[10,  7],\n",
              "        [ 4,  5]], dtype=int32)>,\n",
              " <tf.Variable 'Variable:0' shape=(4,) dtype=int32, numpy=array([10,  7, 12,  4], dtype=int32)>)"
            ]
          },
          "metadata": {},
          "execution_count": 12
        }
      ]
    },
    {
      "cell_type": "markdown",
      "source": [
        "### **Assinging values to the tensor**"
      ],
      "metadata": {
        "id": "F-oJZsZd8MPk"
      }
    },
    {
      "cell_type": "code",
      "source": [
        "# Changing Values\n",
        "changable_tensor[0].assign(7)"
      ],
      "metadata": {
        "id": "3BUE5U9sxnDN",
        "colab": {
          "base_uri": "https://localhost:8080/"
        },
        "outputId": "53aefb6d-3d17-4ff6-d7f4-68cb1b5bb2aa"
      },
      "execution_count": 13,
      "outputs": [
        {
          "output_type": "execute_result",
          "data": {
            "text/plain": [
              "<tf.Variable 'UnreadVariable' shape=(4,) dtype=int32, numpy=array([ 7,  7, 12,  4], dtype=int32)>"
            ]
          },
          "metadata": {},
          "execution_count": 13
        }
      ]
    },
    {
      "cell_type": "markdown",
      "source": [
        "### **Creating random tensors**"
      ],
      "metadata": {
        "id": "FN4CQu0x38wV"
      }
    },
    {
      "cell_type": "markdown",
      "source": [
        "**tf.random.normal**\n",
        "\n",
        " (\n",
        "    shape,\n",
        "    mean=0.0,\n",
        "    stddev=1.0,\n",
        "    dtype=tf.dtypes.float32,\n",
        "    seed=None,\n",
        "    name=None\n",
        " )"
      ],
      "metadata": {
        "id": "4lNQK42v-i27"
      }
    },
    {
      "cell_type": "markdown",
      "source": [
        "**Normal distribution**\n",
        "\n",
        "Normal distribution, also known as the Gaussian distribution, is a probability distribution that is symmetric about the mean, showing that data near the mean are more frequent in occurrence than data far from the mean.\n",
        "\n",
        "In graphical form, the normal distribution appears as a \"bell curve\"."
      ],
      "metadata": {
        "id": "rckLIqISBgK1"
      }
    },
    {
      "cell_type": "code",
      "source": [
        "random1 = tf.random.Generator.from_seed(42)\n",
        "random1 = random1.normal(shape=(3,2))\n",
        "\n",
        "random2 = tf.random.Generator.from_seed(42)\n",
        "random2 = random2.normal(shape=(3,2))\n",
        "\n",
        "random1, random2, random1 == random2"
      ],
      "metadata": {
        "colab": {
          "base_uri": "https://localhost:8080/"
        },
        "id": "50geddLI4SYf",
        "outputId": "e7f49979-63c2-47d6-d2b8-15913453b85d"
      },
      "execution_count": 14,
      "outputs": [
        {
          "output_type": "execute_result",
          "data": {
            "text/plain": [
              "(<tf.Tensor: shape=(3, 2), dtype=float32, numpy=\n",
              " array([[-0.7565803 , -0.06854702],\n",
              "        [ 0.07595026, -1.2573844 ],\n",
              "        [-0.23193763, -1.8107855 ]], dtype=float32)>,\n",
              " <tf.Tensor: shape=(3, 2), dtype=float32, numpy=\n",
              " array([[-0.7565803 , -0.06854702],\n",
              "        [ 0.07595026, -1.2573844 ],\n",
              "        [-0.23193763, -1.8107855 ]], dtype=float32)>,\n",
              " <tf.Tensor: shape=(3, 2), dtype=bool, numpy=\n",
              " array([[ True,  True],\n",
              "        [ True,  True],\n",
              "        [ True,  True]])>)"
            ]
          },
          "metadata": {},
          "execution_count": 14
        }
      ]
    },
    {
      "cell_type": "markdown",
      "source": [
        "**tf.random.uniform**\n",
        "\n",
        "(\n",
        "    shape,\n",
        "    minval=0,\n",
        "    maxval=None,\n",
        "    dtype=tf.dtypes.float32,\n",
        "    seed=None,\n",
        "    name=None\n",
        ")"
      ],
      "metadata": {
        "id": "AmI3z04aCPBG"
      }
    },
    {
      "cell_type": "markdown",
      "source": [
        "**Uniform Distribution**\n",
        "\n",
        "A uniform distribution, also called a rectangular distribution, is a probability distribution that has constant probability.\n"
      ],
      "metadata": {
        "id": "-TwnhyQq_1sh"
      }
    },
    {
      "cell_type": "code",
      "source": [
        "random3 = tf.random.Generator.from_seed(42)\n",
        "random3 = random3.uniform(shape=(3,2))\n",
        "\n",
        "random4 = tf.random.Generator.from_seed(42)\n",
        "random4 = random4.uniform(shape=(3,2))\n",
        "\n",
        "random3, random4, random3 == random4"
      ],
      "metadata": {
        "colab": {
          "base_uri": "https://localhost:8080/"
        },
        "id": "vxQd-0y9CZ4V",
        "outputId": "3e259aa9-6576-438c-9069-4ef3add41fb6"
      },
      "execution_count": 15,
      "outputs": [
        {
          "output_type": "execute_result",
          "data": {
            "text/plain": [
              "(<tf.Tensor: shape=(3, 2), dtype=float32, numpy=\n",
              " array([[0.7493447 , 0.73561966],\n",
              "        [0.45230794, 0.49039817],\n",
              "        [0.1889317 , 0.52027524]], dtype=float32)>,\n",
              " <tf.Tensor: shape=(3, 2), dtype=float32, numpy=\n",
              " array([[0.7493447 , 0.73561966],\n",
              "        [0.45230794, 0.49039817],\n",
              "        [0.1889317 , 0.52027524]], dtype=float32)>,\n",
              " <tf.Tensor: shape=(3, 2), dtype=bool, numpy=\n",
              " array([[ True,  True],\n",
              "        [ True,  True],\n",
              "        [ True,  True]])>)"
            ]
          },
          "metadata": {},
          "execution_count": 15
        }
      ]
    },
    {
      "cell_type": "markdown",
      "source": [
        "### Shuffling the tensors"
      ],
      "metadata": {
        "id": "cscqG1VrWYyV"
      }
    },
    {
      "cell_type": "code",
      "source": [
        "shuffle  = tf.constant([[1,2],\n",
        "                       [9,8],\n",
        "                       [5,0],\n",
        "                       [4,3]]) \n"
      ],
      "metadata": {
        "id": "vJZED4UAWehC"
      },
      "execution_count": 16,
      "outputs": []
    },
    {
      "cell_type": "code",
      "source": [
        "tf.random.set_seed(7)   # Global level seed\n",
        "tf.random.shuffle(shuffle)   # Operation level seed"
      ],
      "metadata": {
        "colab": {
          "base_uri": "https://localhost:8080/"
        },
        "id": "8AcnkC1NWumU",
        "outputId": "e44eff1f-de04-43e5-9484-9954c7c0eb7a"
      },
      "execution_count": 17,
      "outputs": [
        {
          "output_type": "execute_result",
          "data": {
            "text/plain": [
              "<tf.Tensor: shape=(4, 2), dtype=int32, numpy=\n",
              "array([[5, 0],\n",
              "       [1, 2],\n",
              "       [4, 3],\n",
              "       [9, 8]], dtype=int32)>"
            ]
          },
          "metadata": {},
          "execution_count": 17
        }
      ]
    },
    {
      "cell_type": "markdown",
      "source": [
        "### Other ways to create tensors"
      ],
      "metadata": {
        "id": "JELhN6LaYlua"
      }
    },
    {
      "cell_type": "code",
      "source": [
        "tf.ones(10, tf.int32 )"
      ],
      "metadata": {
        "colab": {
          "base_uri": "https://localhost:8080/"
        },
        "id": "OTEMiuqZYhYU",
        "outputId": "958259bc-0623-48a0-f8f9-73fae5522b95"
      },
      "execution_count": 18,
      "outputs": [
        {
          "output_type": "execute_result",
          "data": {
            "text/plain": [
              "<tf.Tensor: shape=(10,), dtype=int32, numpy=array([1, 1, 1, 1, 1, 1, 1, 1, 1, 1], dtype=int32)>"
            ]
          },
          "metadata": {},
          "execution_count": 18
        }
      ]
    },
    {
      "cell_type": "code",
      "source": [
        "tf.zeros(5)"
      ],
      "metadata": {
        "colab": {
          "base_uri": "https://localhost:8080/"
        },
        "id": "753W_jCDYk8r",
        "outputId": "3c2fdd41-c518-44b8-e4d8-eff057e044f9"
      },
      "execution_count": 19,
      "outputs": [
        {
          "output_type": "execute_result",
          "data": {
            "text/plain": [
              "<tf.Tensor: shape=(5,), dtype=float32, numpy=array([0., 0., 0., 0., 0.], dtype=float32)>"
            ]
          },
          "metadata": {},
          "execution_count": 19
        }
      ]
    },
    {
      "cell_type": "markdown",
      "source": [
        "**Creating tensors using numpy array's**"
      ],
      "metadata": {
        "id": "J9--48-0cAk6"
      }
    },
    {
      "cell_type": "code",
      "source": [
        "import numpy as np "
      ],
      "metadata": {
        "id": "hnEuly85b1oH"
      },
      "execution_count": 20,
      "outputs": []
    },
    {
      "cell_type": "code",
      "source": [
        "a = np.arange(1,25, dtype=np.int32)\n",
        "print(a)"
      ],
      "metadata": {
        "colab": {
          "base_uri": "https://localhost:8080/"
        },
        "id": "iPZlElzPcSGF",
        "outputId": "8489c3d7-ea65-4a86-b036-6c751466d80d"
      },
      "execution_count": 21,
      "outputs": [
        {
          "output_type": "stream",
          "name": "stdout",
          "text": [
            "[ 1  2  3  4  5  6  7  8  9 10 11 12 13 14 15 16 17 18 19 20 21 22 23 24]\n"
          ]
        }
      ]
    },
    {
      "cell_type": "code",
      "source": [
        "A = tf.constant(a, shape=(3,2,4), dtype=tf.int64)\n",
        "print(A)"
      ],
      "metadata": {
        "colab": {
          "base_uri": "https://localhost:8080/"
        },
        "id": "20qIhkLGcZkZ",
        "outputId": "ea853165-436e-4a4e-cd60-90645fb5712f"
      },
      "execution_count": 22,
      "outputs": [
        {
          "output_type": "stream",
          "name": "stdout",
          "text": [
            "tf.Tensor(\n",
            "[[[ 1  2  3  4]\n",
            "  [ 5  6  7  8]]\n",
            "\n",
            " [[ 9 10 11 12]\n",
            "  [13 14 15 16]]\n",
            "\n",
            " [[17 18 19 20]\n",
            "  [21 22 23 24]]], shape=(3, 2, 4), dtype=int64)\n"
          ]
        }
      ]
    },
    {
      "cell_type": "code",
      "source": [
        "tf.Variable([1,2,3,4,5,6], dtype=tf.float32)\n",
        "# In tf.Variable, can't alter the shape "
      ],
      "metadata": {
        "colab": {
          "base_uri": "https://localhost:8080/"
        },
        "id": "jI4b8-VJctBt",
        "outputId": "46a65828-50ba-4243-aedc-205c4f1d9a27"
      },
      "execution_count": 23,
      "outputs": [
        {
          "output_type": "execute_result",
          "data": {
            "text/plain": [
              "<tf.Variable 'Variable:0' shape=(6,) dtype=float32, numpy=array([1., 2., 3., 4., 5., 6.], dtype=float32)>"
            ]
          },
          "metadata": {},
          "execution_count": 23
        }
      ]
    },
    {
      "cell_type": "markdown",
      "source": [
        "# Getting information from tensors\n",
        "# (dtype, shape, Rank, size)"
      ],
      "metadata": {
        "id": "a7BBZcaxmBFV"
      }
    },
    {
      "cell_type": "code",
      "source": [
        "tensor  = tf.zeros(shape=[2,3,4,5])\n",
        "print(tensor) "
      ],
      "metadata": {
        "colab": {
          "base_uri": "https://localhost:8080/"
        },
        "id": "BE7pmaEofs68",
        "outputId": "48cb3058-56b6-4b6a-c125-16d8e565b846"
      },
      "execution_count": 24,
      "outputs": [
        {
          "output_type": "stream",
          "name": "stdout",
          "text": [
            "tf.Tensor(\n",
            "[[[[0. 0. 0. 0. 0.]\n",
            "   [0. 0. 0. 0. 0.]\n",
            "   [0. 0. 0. 0. 0.]\n",
            "   [0. 0. 0. 0. 0.]]\n",
            "\n",
            "  [[0. 0. 0. 0. 0.]\n",
            "   [0. 0. 0. 0. 0.]\n",
            "   [0. 0. 0. 0. 0.]\n",
            "   [0. 0. 0. 0. 0.]]\n",
            "\n",
            "  [[0. 0. 0. 0. 0.]\n",
            "   [0. 0. 0. 0. 0.]\n",
            "   [0. 0. 0. 0. 0.]\n",
            "   [0. 0. 0. 0. 0.]]]\n",
            "\n",
            "\n",
            " [[[0. 0. 0. 0. 0.]\n",
            "   [0. 0. 0. 0. 0.]\n",
            "   [0. 0. 0. 0. 0.]\n",
            "   [0. 0. 0. 0. 0.]]\n",
            "\n",
            "  [[0. 0. 0. 0. 0.]\n",
            "   [0. 0. 0. 0. 0.]\n",
            "   [0. 0. 0. 0. 0.]\n",
            "   [0. 0. 0. 0. 0.]]\n",
            "\n",
            "  [[0. 0. 0. 0. 0.]\n",
            "   [0. 0. 0. 0. 0.]\n",
            "   [0. 0. 0. 0. 0.]\n",
            "   [0. 0. 0. 0. 0.]]]], shape=(2, 3, 4, 5), dtype=float32)\n"
          ]
        }
      ]
    },
    {
      "cell_type": "code",
      "source": [
        "print(\" Data type: \", tensor.dtype)\n",
        "print(\" Shape: \", tensor.shape)\n",
        "print(\" Rank: \", tensor.ndim)\n",
        "print(\" Size: \", tf.size(tensor)) \n",
        "print(\" Size(Numpy): \", tf.size(tensor).numpy())"
      ],
      "metadata": {
        "colab": {
          "base_uri": "https://localhost:8080/"
        },
        "id": "uzRM9F8-kQ_E",
        "outputId": "368fd83e-f05e-4687-88c0-8903798e6a94"
      },
      "execution_count": 25,
      "outputs": [
        {
          "output_type": "stream",
          "name": "stdout",
          "text": [
            " Data type:  <dtype: 'float32'>\n",
            " Shape:  (2, 3, 4, 5)\n",
            " Rank:  4\n",
            " Size:  tf.Tensor(120, shape=(), dtype=int32)\n",
            " Size(Numpy):  120\n"
          ]
        }
      ]
    },
    {
      "cell_type": "markdown",
      "source": [
        "# Indexing tensors"
      ],
      "metadata": {
        "id": "SqSEENnX7yQr"
      }
    },
    {
      "cell_type": "markdown",
      "source": [
        "Tensors can be indexed like python lists"
      ],
      "metadata": {
        "id": "wBp3jLzi8ApF"
      }
    },
    {
      "cell_type": "code",
      "source": [
        "# Indexing\n",
        "print(tensor[0][2][3][2])"
      ],
      "metadata": {
        "id": "sHGCN8FvkvE8",
        "outputId": "9ab66c7c-7f34-4275-94c8-81a1dce8763a",
        "colab": {
          "base_uri": "https://localhost:8080/"
        }
      },
      "execution_count": 32,
      "outputs": [
        {
          "output_type": "stream",
          "name": "stdout",
          "text": [
            "tf.Tensor(0.0, shape=(), dtype=float32)\n"
          ]
        }
      ]
    },
    {
      "cell_type": "code",
      "source": [
        "# Get first 2 elements of each dimension\n",
        "print(tensor[:2, :1, :2, :2])"
      ],
      "metadata": {
        "id": "ZbH7EpBv76o4",
        "outputId": "519638c1-2d35-4fb3-eb77-4d456bd831cd",
        "colab": {
          "base_uri": "https://localhost:8080/"
        }
      },
      "execution_count": 34,
      "outputs": [
        {
          "output_type": "stream",
          "name": "stdout",
          "text": [
            "tf.Tensor(\n",
            "[[[[0. 0.]\n",
            "   [0. 0.]]]\n",
            "\n",
            "\n",
            " [[[0. 0.]\n",
            "   [0. 0.]]]], shape=(2, 1, 2, 2), dtype=float32)\n"
          ]
        }
      ]
    },
    {
      "cell_type": "code",
      "source": [
        "# Get the first element from each dimension from each index except for the final one\n",
        "print(tensor[:1, :1, :1])"
      ],
      "metadata": {
        "id": "wxEvau4X8iAw",
        "outputId": "6eb0eec2-134e-4410-b00a-00d063673688",
        "colab": {
          "base_uri": "https://localhost:8080/"
        }
      },
      "execution_count": 36,
      "outputs": [
        {
          "output_type": "stream",
          "name": "stdout",
          "text": [
            "tf.Tensor([[[[0. 0. 0. 0. 0.]]]], shape=(1, 1, 1, 5), dtype=float32)\n"
          ]
        }
      ]
    },
    {
      "cell_type": "code",
      "source": [
        "# create a rank 2 tensor\n",
        "ten2 = tf.Variable([[1,2],\n",
        "                   [3,4]], dtype=tf.int32)\n",
        "print(ten2)"
      ],
      "metadata": {
        "id": "Z1FwM-Uf9K22",
        "outputId": "b5fb68fa-854f-44af-c43e-51fa051bd97d",
        "colab": {
          "base_uri": "https://localhost:8080/"
        }
      },
      "execution_count": 40,
      "outputs": [
        {
          "output_type": "stream",
          "name": "stdout",
          "text": [
            "<tf.Variable 'Variable:0' shape=(2, 2) dtype=int32, numpy=\n",
            "array([[1, 2],\n",
            "       [3, 4]], dtype=int32)>\n"
          ]
        }
      ]
    },
    {
      "cell_type": "code",
      "source": [
        "#Get last item\n",
        "print(ten2[:,-1])"
      ],
      "metadata": {
        "id": "yO2k1FKX-Kv2",
        "outputId": "01618878-49f1-4462-a2ad-1455190cb670",
        "colab": {
          "base_uri": "https://localhost:8080/"
        }
      },
      "execution_count": 44,
      "outputs": [
        {
          "output_type": "stream",
          "name": "stdout",
          "text": [
            "tf.Tensor([2 4], shape=(2,), dtype=int32)\n"
          ]
        }
      ]
    },
    {
      "cell_type": "markdown",
      "source": [
        "# Expanding dimensions in a tensor\n"
      ],
      "metadata": {
        "id": "Al-qGLCYAu0I"
      }
    },
    {
      "cell_type": "markdown",
      "source": [
        "**tf.newaxis**"
      ],
      "metadata": {
        "id": "MqtoTW-_DXMJ"
      }
    },
    {
      "cell_type": "code",
      "source": [
        "# Add in an extra dimension to our rank to dimension\n",
        "ten3 = ten2[..., tf.newaxis]\n",
        "print(ten3)"
      ],
      "metadata": {
        "id": "Fm0QN1qI-2PL",
        "outputId": "dad60be3-8471-4dfd-f3be-9d8737f71871",
        "colab": {
          "base_uri": "https://localhost:8080/"
        }
      },
      "execution_count": 53,
      "outputs": [
        {
          "output_type": "stream",
          "name": "stdout",
          "text": [
            "tf.Tensor(\n",
            "[[[1]\n",
            "  [2]]\n",
            "\n",
            " [[3]\n",
            "  [4]]], shape=(2, 2, 1), dtype=int32)\n"
          ]
        }
      ]
    },
    {
      "cell_type": "markdown",
      "source": [
        "**tf.expand_dims()**"
      ],
      "metadata": {
        "id": "ZFD0wBgxDhkt"
      }
    },
    {
      "cell_type": "markdown",
      "source": [
        "tf.expand_dims(\n",
        "    input, axis, name=None\n",
        ")"
      ],
      "metadata": {
        "id": "F7_tijyfDqBp"
      }
    },
    {
      "cell_type": "code",
      "source": [
        "#tf.expand_dims(ten3, axis=-1)  # Adding an axis at last\n",
        "\n",
        "tf.expand_dims(ten3, axis=1)  # Adding an axis at index 0"
      ],
      "metadata": {
        "id": "ORQJTEDSBX3j",
        "outputId": "766c4551-ae2f-4ccd-f359-6a82443eab3e",
        "colab": {
          "base_uri": "https://localhost:8080/"
        }
      },
      "execution_count": 54,
      "outputs": [
        {
          "output_type": "execute_result",
          "data": {
            "text/plain": [
              "<tf.Tensor: shape=(2, 1, 2, 1), dtype=int32, numpy=\n",
              "array([[[[1],\n",
              "         [2]]],\n",
              "\n",
              "\n",
              "       [[[3],\n",
              "         [4]]]], dtype=int32)>"
            ]
          },
          "metadata": {},
          "execution_count": 54
        }
      ]
    },
    {
      "cell_type": "code",
      "source": [
        "tf.squeeze(ten3)"
      ],
      "metadata": {
        "id": "RjYGHN7_D7_G",
        "outputId": "5adf8004-09b1-496a-8653-42d16bfb09f1",
        "colab": {
          "base_uri": "https://localhost:8080/"
        }
      },
      "execution_count": 56,
      "outputs": [
        {
          "output_type": "execute_result",
          "data": {
            "text/plain": [
              "<tf.Tensor: shape=(2, 2), dtype=int32, numpy=\n",
              "array([[1, 2],\n",
              "       [3, 4]], dtype=int32)>"
            ]
          },
          "metadata": {},
          "execution_count": 56
        }
      ]
    },
    {
      "cell_type": "markdown",
      "source": [
        "# Manipulating tensors (tensor operations)"
      ],
      "metadata": {
        "id": "_wgM3GlLExSy"
      }
    },
    {
      "cell_type": "markdown",
      "source": [
        "**Basic Operations**\n",
        "\n",
        "--- Addition\n",
        "\n",
        "--- Subtraction \n",
        "\n",
        "--- Multiplication\n",
        "\n",
        "--- Division\n",
        "\n",
        "\n",
        "\n",
        "\n",
        "\n"
      ],
      "metadata": {
        "id": "Ji0HErhGFLCY"
      }
    },
    {
      "cell_type": "code",
      "source": [
        "# Addition\n",
        "ten_add = tf.Variable([[10,7],\n",
        "                      [4,3]])\n",
        "print(ten_add + 10)\n",
        "print()\n",
        "print(ten_add) # Original tensor is unchanged"
      ],
      "metadata": {
        "id": "uhGhrJkRE9vZ",
        "outputId": "2a1dadde-7db1-48b3-b77f-d73185ac837a",
        "colab": {
          "base_uri": "https://localhost:8080/"
        }
      },
      "execution_count": 65,
      "outputs": [
        {
          "output_type": "stream",
          "name": "stdout",
          "text": [
            "tf.Tensor(\n",
            "[[20 17]\n",
            " [14 13]], shape=(2, 2), dtype=int32)\n",
            "\n",
            "<tf.Variable 'Variable:0' shape=(2, 2) dtype=int32, numpy=\n",
            "array([[10,  7],\n",
            "       [ 4,  3]], dtype=int32)>\n"
          ]
        }
      ]
    },
    {
      "cell_type": "code",
      "source": [
        "# Subtraction\n",
        "ten_sub = tf.Variable([[10,7],\n",
        "                      [4,3]])\n",
        "print(ten_sub - 10)\n",
        "print()\n",
        "print(ten_sub) # Original tensor is unchanged"
      ],
      "metadata": {
        "id": "phRODQd-F2Tl",
        "outputId": "50cacd8a-7188-49a9-fdae-5155369a1d6c",
        "colab": {
          "base_uri": "https://localhost:8080/"
        }
      },
      "execution_count": 67,
      "outputs": [
        {
          "output_type": "stream",
          "name": "stdout",
          "text": [
            "tf.Tensor(\n",
            "[[ 0 -3]\n",
            " [-6 -7]], shape=(2, 2), dtype=int32)\n",
            "\n",
            "<tf.Variable 'Variable:0' shape=(2, 2) dtype=int32, numpy=\n",
            "array([[10,  7],\n",
            "       [ 4,  3]], dtype=int32)>\n"
          ]
        }
      ]
    },
    {
      "cell_type": "code",
      "source": [
        "# Multiplication\n",
        "ten_m  = tf.Variable([[10,7],\n",
        "                      [4,3]])\n",
        "print(ten_m*3)\n",
        "\n",
        "print()\n",
        "\n",
        "print(tf.math.multiply(ten_m, 12))"
      ],
      "metadata": {
        "id": "OXH71cz2HWS9",
        "outputId": "3688bf2e-72d8-4f20-ed08-9d129f425be6",
        "colab": {
          "base_uri": "https://localhost:8080/"
        }
      },
      "execution_count": 71,
      "outputs": [
        {
          "output_type": "stream",
          "name": "stdout",
          "text": [
            "tf.Tensor(\n",
            "[[30 21]\n",
            " [12  9]], shape=(2, 2), dtype=int32)\n",
            "\n",
            "tf.Tensor(\n",
            "[[120  84]\n",
            " [ 48  36]], shape=(2, 2), dtype=int32)\n"
          ]
        }
      ]
    },
    {
      "cell_type": "code",
      "source": [
        "# Division\n",
        "ten_div = tf.Variable([[10,7],\n",
        "                      [4,3]])\n",
        "ten_div/2"
      ],
      "metadata": {
        "id": "ArP0IbcrHAEj",
        "outputId": "a5f7facb-9b23-4097-c709-63f7ce50efcd",
        "colab": {
          "base_uri": "https://localhost:8080/"
        }
      },
      "execution_count": 68,
      "outputs": [
        {
          "output_type": "execute_result",
          "data": {
            "text/plain": [
              "<tf.Tensor: shape=(2, 2), dtype=float64, numpy=\n",
              "array([[5. , 3.5],\n",
              "       [2. , 1.5]])>"
            ]
          },
          "metadata": {},
          "execution_count": 68
        }
      ]
    },
    {
      "cell_type": "code",
      "source": [],
      "metadata": {
        "id": "N-Uek3FtHSoZ"
      },
      "execution_count": null,
      "outputs": []
    }
  ]
}